{
 "cells": [
  {
   "cell_type": "markdown",
   "metadata": {},
   "source": [
    "## Import Libraries"
   ]
  },
  {
   "cell_type": "code",
   "execution_count": 1,
   "metadata": {
    "scrolled": false
   },
   "outputs": [],
   "source": [
    "from selenium.webdriver.common.action_chains import ActionChains\n",
    "from selenium.webdriver.common.keys import Keys\n",
    "from selenium.webdriver.support.ui import WebDriverWait\n",
    "from selenium.webdriver.support import expected_conditions as EC\n",
    "from selenium.webdriver.common.by import By\n",
    "from selenium import webdriver\n",
    "from bs4 import BeautifulSoup as bs\n",
    "import pyperclip\n",
    "\n",
    "import pandas as pd\n",
    "import time"
   ]
  },
  {
   "cell_type": "markdown",
   "metadata": {},
   "source": [
    "### Clipboard copy"
   ]
  },
  {
   "cell_type": "code",
   "execution_count": 2,
   "metadata": {},
   "outputs": [],
   "source": [
    "def clipboard_input(driver, user_input):\n",
    "    # save existing clipboard data\n",
    "    existing_clipboard = pyperclip.paste()\n",
    "\n",
    "    # copy user_input to clipboard. then paste it\n",
    "    pyperclip.copy(user_input)\n",
    "    ActionChains(driver).key_down(Keys.CONTROL).send_keys('v').key_up(Keys.CONTROL).perform()\n",
    "\n",
    "    # recover the original clipboard data\n",
    "    pyperclip.copy(existing_clipboard)  \n",
    "    time.sleep(1)"
   ]
  },
  {
   "cell_type": "markdown",
   "metadata": {},
   "source": [
    "### Load user info"
   ]
  },
  {
   "cell_type": "code",
   "execution_count": 3,
   "metadata": {},
   "outputs": [],
   "source": [
    "def load_user_info():\n",
    "    f = open('user_info.txt', 'r')\n",
    "    user_info = f.readlines()\n",
    "    f.close()\n",
    "    \n",
    "    return user_info[0][:-1], user_info[1][:-1]"
   ]
  },
  {
   "cell_type": "markdown",
   "metadata": {},
   "source": [
    "### Naver Login"
   ]
  },
  {
   "cell_type": "code",
   "execution_count": 4,
   "metadata": {},
   "outputs": [],
   "source": [
    "def login_naver(driver, user_id, user_pw):\n",
    "    # naver login page\n",
    "    driver.get('https://nid.naver.com/nidlogin.login?svctype=262144&url=http://m.naver.com/aside/')\n",
    "\n",
    "    # input id \n",
    "    driver.find_element_by_xpath('//*[@id=\"id\"]').click()\n",
    "    clipboard_input(driver, user_id)\n",
    "\n",
    "    # input pw\n",
    "    driver.find_element_by_xpath('//*[@id=\"pw\"]').click()\n",
    "    clipboard_input(driver, user_pw)\n",
    "\n",
    "    # click login btn\n",
    "    driver.find_element_by_xpath('//*[@id=\"frmNIDLogin\"]/fieldset/input').click()\n",
    "    time.sleep(1)\n",
    "\n",
    "    # click \n",
    "    driver.find_element_by_xpath('//span[@class=\"btn_cancel\"]').click()"
   ]
  },
  {
   "cell_type": "markdown",
   "metadata": {},
   "source": [
    "### Enter Details to search in Joonggonara"
   ]
  },
  {
   "cell_type": "code",
   "execution_count": 5,
   "metadata": {},
   "outputs": [],
   "source": [
    "def get_idx_of_selected_option(option_list, input_text):\n",
    "    for idx, option in enumerate(option_list):\n",
    "        if option.text == input_text:\n",
    "            return idx\n",
    "    return -1"
   ]
  },
  {
   "cell_type": "code",
   "execution_count": 6,
   "metadata": {},
   "outputs": [],
   "source": [
    "def enter_details(driver, search_option, item, detail_option):    \n",
    "    # show 50 items\n",
    "    driver.find_element_by_xpath('//div[@id=\"listSizeSelectDiv\"]').click()\n",
    "    time.sleep(1)\n",
    "    listSize_list = driver.find_elements_by_xpath('//div[@id=\"listSizeSelectDiv\"]/ul/li')\n",
    "    listSize_list[-1].click()\n",
    "    time.sleep(1)\n",
    "    \n",
    "    # set search options\n",
    "    driver.find_element_by_xpath('//div[@id=\"searchOptionSelectDiv\"]').click()\n",
    "    searchBoard_list = driver.find_elements_by_xpath('//div[@id=\"searchOptionSelectDiv\"]/ul/li')\n",
    "    searchBoard_list[get_idx_of_selected_option(searchBoard_list, search_option['board'])].click()\n",
    "    time.sleep(1)\n",
    "    \n",
    "    driver.find_element_by_xpath('//div[@id=\"divSearchDateTop\"]').click()\n",
    "    searchDate_list = driver.find_elements_by_xpath('//div[@id=\"divSearchDateTop\"]/ul/li')\n",
    "    searchDate_list[get_idx_of_selected_option(searchDate_list, search_option['period'])].click()\n",
    "    \n",
    "    driver.find_element_by_xpath('//div[@id=\"divSearchMenuTop\"]').click()\n",
    "    searchMenu_list = driver.find_elements_by_xpath('//div[@id=\"divSearchMenuTop\"]/ul/li')\n",
    "    searchMenu_list[get_idx_of_selected_option(searchMenu_list, search_option['menu'])].click()\n",
    "    \n",
    "    driver.find_element_by_xpath('//div[@id=\"divSearchByTop\"]').click()\n",
    "    searchBy_list = driver.find_elements_by_xpath('//div[@id=\"divSearchByTop\"]/ul/li')\n",
    "    searchBy_list[get_idx_of_selected_option(searchBy_list, search_option['by'])].click()\n",
    "    \n",
    "    # enter item\n",
    "    driver.find_element_by_xpath('//input[@placeholder=\"검색어를 입력해주세요\"]').send_keys(item)\n",
    "    \n",
    "    # click detail search btn\n",
    "    driver.find_element_by_xpath('//*[@id=\"detailSearchBtn\"]').click()\n",
    "\n",
    "    # enter detail options\n",
    "    driver.find_element_by_xpath('//input[@placeholder=\"다음 단어 모두 포함\"]').send_keys(detail_option['keywords_and'])\n",
    "    driver.find_element_by_xpath('//input[@placeholder=\"다음 단어 제외\"]').send_keys(detail_option['keywords_not'])\n",
    "    driver.find_element_by_xpath('//input[@placeholder=\"다음 단어 중 1개 이상 포함\"]').send_keys(detail_option['keywords_or'])\n",
    "    driver.find_element_by_xpath('//input[@placeholder=\"다음 어절, 어구 정확히 일치\"]').send_keys(detail_option['sentence'])\n",
    "    \n",
    "    \n",
    "    # search\n",
    "    driver.find_element_by_xpath('//form[@name=\"frmSearchTop\"]/div[@class=\"input_search_area\"]/button[@class=\"btn-search-green\"]').click()\n",
    "    \n",
    "    time.sleep(1)"
   ]
  },
  {
   "cell_type": "markdown",
   "metadata": {},
   "source": [
    "### Get Product Info"
   ]
  },
  {
   "cell_type": "code",
   "execution_count": 7,
   "metadata": {},
   "outputs": [],
   "source": [
    "def get_post_info(driver, href):\n",
    "    driver.get(href)\n",
    "    time.sleep(1)\n",
    "    driver.switch_to.frame('cafe_main')\n",
    "    soup = bs(driver.page_source, 'html.parser')\n",
    "\n",
    "    # post_title\n",
    "    title = soup.select('div.tit-box span.b')[0].get_text()\n",
    "    \n",
    "    # posted_cost\n",
    "    try:\n",
    "        cost = soup.select('span.cost')[0].get_text()\n",
    "    except:\n",
    "        cost = 0\n",
    "\n",
    "    # merge contents to single text\n",
    "    content_tags = soup.select('#tbody')[0].select('p')\n",
    "    content = ' '.join([ tags.get_text() for tags in content_tags ])\n",
    "    \n",
    "    time.sleep(1)\n",
    "\n",
    "    return {'cost':cost, 'title' : title, 'content' : content}"
   ]
  },
  {
   "cell_type": "markdown",
   "metadata": {},
   "source": [
    "#### Run ChromeDriver"
   ]
  },
  {
   "cell_type": "code",
   "execution_count": 8,
   "metadata": {},
   "outputs": [],
   "source": [
    "driver = webdriver.Chrome()\n",
    "driver.implicitly_wait(2)"
   ]
  },
  {
   "cell_type": "markdown",
   "metadata": {},
   "source": [
    "#### Login Naver"
   ]
  },
  {
   "cell_type": "code",
   "execution_count": 9,
   "metadata": {},
   "outputs": [],
   "source": [
    "user_id, user_pw = load_user_info()\n",
    "login_naver(driver, user_id, user_pw)"
   ]
  },
  {
   "cell_type": "markdown",
   "metadata": {},
   "source": [
    "#### Search items from Joonggonara and get boards"
   ]
  },
  {
   "cell_type": "code",
   "execution_count": 10,
   "metadata": {},
   "outputs": [],
   "source": [
    "# log onto Joonggonara and enter details\n",
    "driver.get('https://cafe.naver.com/joonggonara?iframe_url=/ArticleSearchList.nhn%3Fsearch.clubid=10050146%26search.searchBy=0')\n",
    "time.sleep(1)\n",
    "driver.switch_to.frame(driver.find_element_by_name(\"cafe_main\"))\n",
    "\n",
    "search_option={\n",
    "    'board' : \"게시글 전체\",\n",
    "    'period' : \"전체기간\",\n",
    "    'menu' : \"주변기기/악세사리\",\n",
    "    'by' : \"제목만\"\n",
    "}\n",
    "\n",
    "item = \"애플워치\"\n",
    "\n",
    "detail_option = {\n",
    "    'keywords_and' : \"미개봉 5\",\n",
    "    'keywords_not' : \"40 40mm 40MM\", \n",
    "    'keywords_or' : \"스페이스그레이 스그\", \n",
    "    'sentence' : \"\"\n",
    "}\n",
    "# 'keywords_not' : \"LTE 중고폰 삽니다 사요 구매 구함 구해요 구합니다\"\n",
    "num_of_items=500\n",
    "\n",
    "enter_details(driver, search_option, item, detail_option)"
   ]
  },
  {
   "cell_type": "code",
   "execution_count": 11,
   "metadata": {},
   "outputs": [],
   "source": [
    "board_navigator = driver.find_element_by_xpath('//div[@class=\"prev-next\"]')\n",
    "board_list = board_navigator.find_elements_by_tag_name('a')\n",
    "board_href = board_list[0].get_attribute('href')[:-1]\n",
    "board_idx = 0"
   ]
  },
  {
   "cell_type": "markdown",
   "metadata": {},
   "source": [
    "#### Get Posts Links"
   ]
  },
  {
   "cell_type": "code",
   "execution_count": 12,
   "metadata": {},
   "outputs": [
    {
     "name": "stdout",
     "output_type": "stream",
     "text": [
      "read 1 pages 30 posts. and 30 new posts\n",
      "read 2 pages 30 posts. and 0 new posts\n"
     ]
    }
   ],
   "source": [
    "post_key_list=[]\n",
    "author_list=set([])\n",
    "while True:\n",
    "    # change board\n",
    "    board_idx+=1\n",
    "    driver.get(board_href+str(board_idx))\n",
    "    time.sleep(1)\n",
    "    driver.switch_to.frame(driver.find_element_by_name(\"cafe_main\"))\n",
    "    \n",
    "    # get posts in current board\n",
    "    posts = driver.find_elements_by_css_selector('div.article-board > table > tbody > tr')\n",
    "    num_of_new_posts = len(posts)\n",
    "    \n",
    "    for post in posts:\n",
    "        \n",
    "        # get valid posts\n",
    "        try:\n",
    "            author = post.find_element_by_class_name('td_name').text.strip()\n",
    "            href = post.find_element_by_class_name('article').get_attribute('href')\n",
    "        except:\n",
    "            num_of_new_posts-=1\n",
    "            continue\n",
    "            \n",
    "        # filter duplicated postings by author\n",
    "        if author in author_list:\n",
    "            num_of_new_posts-=1\n",
    "            continue\n",
    "        post_key_list.append({\"author\": author, \"href\":href})\n",
    "        author_list.add(author)\n",
    "        \n",
    "    # check\n",
    "    print(\"read {} pages {} posts. and {} new posts\".format(board_idx, len(post_key_list), num_of_new_posts))\n",
    "    \n",
    "    # terminate condition\n",
    "    if num_of_new_posts == 0 or len(post_key_list)>num_of_items:\n",
    "        break"
   ]
  },
  {
   "cell_type": "markdown",
   "metadata": {},
   "source": [
    "#### Get Price Info"
   ]
  },
  {
   "cell_type": "code",
   "execution_count": 13,
   "metadata": {},
   "outputs": [
    {
     "name": "stdout",
     "output_type": "stream",
     "text": [
      "510,000원 바다와 달 미개봉 새 제품 애플워치 5 스페이스 그레이 알루미늄 케이스 블랙스포츠 밴드 44MM GPS\n",
      "10,000원 지져스아미 애플워치3 나이키 플러스 GPS, 42mm 스페이스그레이 미개봉 새제품 / 애플워치5 나이키 플러스 GPS, 44mm \n",
      "520,000원 쩡 (미개봉) 애플워치 5 44mm 스페이스그레이 52만원에 팔아요!  \n",
      "530,000원 산다라방방 애플워치5 GPS 44mm 스페이스그레이 미개봉 팝니다.\n",
      "480,000원 TeslaX 애플워치5 44mm 스그, 실버 GPS 미개봉 - 48만\n",
      "560,000원 귀족주의 [미개봉 북미판 애플워치5 44mm] 스페이스 그레이 심전도 활성화 가능\n",
      "570,000원 네이버맞나요 애플워치5 40m gps+lte 셀룰러 스페이스그레이 미개봉 \n",
      "600,000원 딸귀 애플워치5 미개봉 셀룰러 40.44 스그 팝니다\n",
      "500,000원 테이크로이스 애플워치5 44mm 스페이스그레이 알루미늄 미개봉 삽니다. (나이키에디션 가능)\n",
      "520,000원 llnozz 미개봉 애플워치5 스페이스그레이44mm gps팝니다\n",
      "520,000원 신쨩 [미개봉] 애플워치5 스페이스그레이 알루미늄 케이스/블랙스포츠밴드/44mm/애플코리아정품/팝니다.\n",
      "500,000원 Penoid 애플워치5 알루미늄 스페이스그레이 44mm 미개봉 새상품 팝니다\n",
      "500,000원 s10234 애플워치5 나이키 스페이스그레이 44mm gps (미개봉) 구합니다\n",
      "490,000원 jps01 애플워치 5 [미개봉] 44mm 스페이스 그레이 블랙 스포츠 밴드\n",
      "500,000원 iti128 애플워치5 미개봉 스페이스그레이 44mm GPS 500,000원 \n",
      "500,000원 두봉이 애플워치5 44mm 스그 gps 미개봉 블랙스포츠밴드\n",
      "480,000원 hs121148 (미개봉)애플워치5 스페이스그레이 44mm gps\n",
      "490,000원 사랑서버 애플워치5 44mm 스페이스그레이 미개봉 제품49만원(대구) 삽니다\n",
      "450,000원 Tknya 애플워치5 44mm 미개봉 스그 45만삽니다\n",
      "11,111원 지시쿠냥 애플워치5 나이키 스그 44mm gps 미개봉 구매해봅니다!!(서울 직거래)\n",
      "480,000원 j901120 애플워치5 44mm 스그 미개봉 삽니다\n",
      "500,000원 토라 애플워치5 44m gps 스페이스 그레이 미개봉\n",
      "490,000원 합시다요 애플워치5 44m 스페이스그레이 gps 미개봉삽니다 49만원  직거래 만 합니다\n",
      "2,222원 맥북 샆니다 애플워치5 44mm 스그 미개봉 삽니다 (고양 직거래)\n",
      "2,222원 난장판 (의정부) 애플워치5 알루 스그 44mm 미개봉 삽니다.\n",
      "450,000원 민준마마 애플워치5 44mm 스페이스그레이 gps 미개봉 팝니다\n",
      "550,000원 ll1013ll (미개봉) 애플워치5 44mm 스그 GPS버전\n",
      "530,000원 boy5288 애플워치 5 나이키 실버 알루미늄 -> 스페이스그레이로 미개봉 상태에서 교환 원해요 \n",
      "500,000원 dearsafe 애플워치5 44mm 스페이스 그레이 미개봉 제품 구매 원합니다\n",
      "675,000원 rouf 애플워치5 나이키 44MM 스페이스그레이 새상품 미개봉 판매합니다.\n"
     ]
    }
   ],
   "source": [
    "price_info=[]\n",
    "for post_key in post_key_list:\n",
    "    try:\n",
    "        post_info = get_post_info(driver, post_key[\"href\"])\n",
    "        print(post_info['cost'], post_key[\"author\"], post_info['title'])\n",
    "        price_info.append(post_info)\n",
    "    except:\n",
    "        print(\"cannot attach post\")\n",
    "\n",
    "price_info_pd=pd.DataFrame(price_info)\n",
    "price_info_pd.to_csv(\"output/20200313_\"+item+\"_price_info.csv\")"
   ]
  },
  {
   "cell_type": "code",
   "execution_count": null,
   "metadata": {},
   "outputs": [],
   "source": []
  },
  {
   "cell_type": "code",
   "execution_count": null,
   "metadata": {},
   "outputs": [],
   "source": []
  },
  {
   "cell_type": "code",
   "execution_count": null,
   "metadata": {},
   "outputs": [],
   "source": []
  },
  {
   "cell_type": "code",
   "execution_count": null,
   "metadata": {},
   "outputs": [],
   "source": []
  },
  {
   "cell_type": "code",
   "execution_count": null,
   "metadata": {},
   "outputs": [],
   "source": []
  },
  {
   "cell_type": "code",
   "execution_count": null,
   "metadata": {},
   "outputs": [],
   "source": []
  }
 ],
 "metadata": {
  "kernelspec": {
   "display_name": "Python [conda env:py37] *",
   "language": "python",
   "name": "conda-env-py37-py"
  },
  "language_info": {
   "codemirror_mode": {
    "name": "ipython",
    "version": 3
   },
   "file_extension": ".py",
   "mimetype": "text/x-python",
   "name": "python",
   "nbconvert_exporter": "python",
   "pygments_lexer": "ipython3",
   "version": "3.7.6"
  }
 },
 "nbformat": 4,
 "nbformat_minor": 2
}
