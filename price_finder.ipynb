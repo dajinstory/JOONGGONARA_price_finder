{
 "cells": [
  {
   "cell_type": "markdown",
   "metadata": {},
   "source": [
    "## Import Libraries"
   ]
  },
  {
   "cell_type": "code",
   "execution_count": 1,
   "metadata": {},
   "outputs": [],
   "source": [
    "from selenium.webdriver.common.action_chains import ActionChains\n",
    "from selenium.webdriver.common.keys import Keys\n",
    "from selenium.webdriver.support.ui import WebDriverWait\n",
    "from selenium.webdriver.support import expected_conditions as EC\n",
    "from selenium.webdriver.common.by import By\n",
    "from selenium import webdriver\n",
    "from bs4 import BeautifulSoup as bs\n",
    "import pyperclip\n",
    "\n",
    "import pandas as pd\n",
    "import time"
   ]
  },
  {
   "cell_type": "markdown",
   "metadata": {},
   "source": [
    "### Clipboard copy"
   ]
  },
  {
   "cell_type": "code",
   "execution_count": 2,
   "metadata": {},
   "outputs": [],
   "source": [
    "def clipboard_input(driver, user_input):\n",
    "    # save existing clipboard data\n",
    "    existing_clipboard = pyperclip.paste()\n",
    "\n",
    "    # copy user_input to clipboard. then paste it\n",
    "    pyperclip.copy(user_input)\n",
    "    ActionChains(driver).key_down(Keys.CONTROL).send_keys('v').key_up(Keys.CONTROL).perform()\n",
    "\n",
    "    # recover the original clipboard data\n",
    "    pyperclip.copy(existing_clipboard)  \n",
    "    time.sleep(1)"
   ]
  },
  {
   "cell_type": "markdown",
   "metadata": {},
   "source": [
    "### Load user info"
   ]
  },
  {
   "cell_type": "code",
   "execution_count": 3,
   "metadata": {},
   "outputs": [],
   "source": [
    "def load_user_info():\n",
    "    f = open('user_info.txt', 'r')\n",
    "    user_info = f.readlines()\n",
    "    f.close()\n",
    "    \n",
    "    return user_info[0][:-1], user_info[1][:-1]"
   ]
  },
  {
   "cell_type": "markdown",
   "metadata": {},
   "source": [
    "### Naver Login"
   ]
  },
  {
   "cell_type": "code",
   "execution_count": 4,
   "metadata": {},
   "outputs": [],
   "source": [
    "def login_naver(driver, user_id, user_pw):\n",
    "    # naver login page\n",
    "    driver.get('https://nid.naver.com/nidlogin.login?svctype=262144&url=http://m.naver.com/aside/')\n",
    "\n",
    "    # input id \n",
    "    driver.find_element_by_xpath('//*[@id=\"id\"]').click()\n",
    "    clipboard_input(driver, user_id)\n",
    "\n",
    "    # input pw\n",
    "    driver.find_element_by_xpath('//*[@id=\"pw\"]').click()\n",
    "    clipboard_input(driver, user_pw)\n",
    "\n",
    "    # click login btn\n",
    "    driver.find_element_by_xpath('//*[@id=\"frmNIDLogin\"]/fieldset/input').click()\n",
    "    time.sleep(1)\n",
    "\n",
    "    # click \n",
    "    driver.find_element_by_xpath('//span[@class=\"btn_cancel\"]').click()"
   ]
  },
  {
   "cell_type": "markdown",
   "metadata": {},
   "source": [
    "### Enter Details to search in Joonggonara"
   ]
  },
  {
   "cell_type": "code",
   "execution_count": 5,
   "metadata": {},
   "outputs": [],
   "source": [
    "def get_idx_of_selected_option(option_list, input_text):\n",
    "    for idx, option in enumerate(option_list):\n",
    "        if option.text == input_text:\n",
    "            return idx\n",
    "    return -1"
   ]
  },
  {
   "cell_type": "code",
   "execution_count": 6,
   "metadata": {},
   "outputs": [],
   "source": [
    "def enter_details(driver, search_option, item, detail_option):    \n",
    "    # show 50 items\n",
    "    driver.find_element_by_xpath('//div[@id=\"listSizeSelectDiv\"]').click()\n",
    "    time.sleep(1)\n",
    "    listSize_list = driver.find_elements_by_xpath('//div[@id=\"listSizeSelectDiv\"]/ul/li')\n",
    "    listSize_list[-1].click()\n",
    "    time.sleep(1)\n",
    "    \n",
    "    # set search options\n",
    "    driver.find_element_by_xpath('//div[@id=\"searchOptionSelectDiv\"]').click()\n",
    "    searchBoard_list = driver.find_elements_by_xpath('//div[@id=\"searchOptionSelectDiv\"]/ul/li')\n",
    "    searchBoard_list[get_idx_of_selected_option(searchBoard_list, search_option['board'])].click()\n",
    "    time.sleep(1)\n",
    "    \n",
    "    driver.find_element_by_xpath('//div[@id=\"divSearchDateTop\"]').click()\n",
    "    searchDate_list = driver.find_elements_by_xpath('//div[@id=\"divSearchDateTop\"]/ul/li')\n",
    "    searchDate_list[get_idx_of_selected_option(searchDate_list, search_option['period'])].click()\n",
    "    \n",
    "    driver.find_element_by_xpath('//div[@id=\"divSearchMenuTop\"]').click()\n",
    "    searchMenu_list = driver.find_elements_by_xpath('//div[@id=\"divSearchMenuTop\"]/ul/li')\n",
    "    searchMenu_list[get_idx_of_selected_option(searchMenu_list, search_option['menu'])].click()\n",
    "    \n",
    "    driver.find_element_by_xpath('//div[@id=\"divSearchByTop\"]').click()\n",
    "    searchBy_list = driver.find_elements_by_xpath('//div[@id=\"divSearchByTop\"]/ul/li')\n",
    "    searchBy_list[get_idx_of_selected_option(searchBy_list, search_option['by'])].click()\n",
    "    \n",
    "    # enter item\n",
    "    driver.find_element_by_xpath('//input[@placeholder=\"검색어를 입력해주세요\"]').send_keys(item)\n",
    "    \n",
    "    # click detail search btn\n",
    "    driver.find_element_by_xpath('//*[@id=\"detailSearchBtn\"]').click()\n",
    "\n",
    "    # enter detail options\n",
    "    driver.find_element_by_xpath('//input[@placeholder=\"다음 단어 모두 포함\"]').send_keys(detail_option['keywords_and'])\n",
    "    driver.find_element_by_xpath('//input[@placeholder=\"다음 단어 제외\"]').send_keys(detail_option['keywords_not'])\n",
    "    driver.find_element_by_xpath('//input[@placeholder=\"다음 단어 중 1개 이상 포함\"]').send_keys(detail_option['keywords_or'])\n",
    "    driver.find_element_by_xpath('//input[@placeholder=\"다음 어절, 어구 정확히 일치\"]').send_keys(detail_option['sentence'])\n",
    "    \n",
    "    \n",
    "    # search\n",
    "    driver.find_element_by_xpath('//form[@name=\"frmSearchTop\"]/div[@class=\"input_search_area\"]/button[@class=\"btn-search-green\"]').click()\n",
    "    \n",
    "    time.sleep(1)"
   ]
  },
  {
   "cell_type": "markdown",
   "metadata": {},
   "source": [
    "### Get Product Info"
   ]
  },
  {
   "cell_type": "code",
   "execution_count": 7,
   "metadata": {},
   "outputs": [],
   "source": [
    "def get_post_info(driver, href):\n",
    "    driver.get(href)\n",
    "    time.sleep(1)\n",
    "    driver.switch_to.frame('cafe_main')\n",
    "    soup = bs(driver.page_source, 'html.parser')\n",
    "\n",
    "    # post_title\n",
    "    title = soup.select('div.tit-box span.b')[0].get_text()\n",
    "    \n",
    "    # posted_cost\n",
    "    try:\n",
    "        cost = soup.select('span.cost')[0].get_text()\n",
    "    except:\n",
    "        cost = 0\n",
    "\n",
    "    # merge contents to single text\n",
    "    content_tags = soup.select('#tbody')[0].select('p')\n",
    "    content = ' '.join([ tags.get_text() for tags in content_tags ])\n",
    "    \n",
    "    time.sleep(1)\n",
    "\n",
    "    return {'cost':cost, 'title' : title, 'content' : content}"
   ]
  },
  {
   "cell_type": "markdown",
   "metadata": {},
   "source": [
    "#### Run ChromeDriver"
   ]
  },
  {
   "cell_type": "code",
   "execution_count": 8,
   "metadata": {},
   "outputs": [],
   "source": [
    "driver = webdriver.Chrome()\n",
    "driver.implicitly_wait(2)"
   ]
  },
  {
   "cell_type": "markdown",
   "metadata": {},
   "source": [
    "#### Login Naver"
   ]
  },
  {
   "cell_type": "code",
   "execution_count": 9,
   "metadata": {},
   "outputs": [],
   "source": [
    "user_id, user_pw = load_user_info()\n",
    "login_naver(driver, user_id, user_pw)"
   ]
  },
  {
   "cell_type": "markdown",
   "metadata": {},
   "source": [
    "#### Search items from Joonggonara and get boards"
   ]
  },
  {
   "cell_type": "code",
   "execution_count": 10,
   "metadata": {},
   "outputs": [],
   "source": [
    "# log onto Joonggonara and enter details\n",
    "driver.get('https://cafe.naver.com/joonggonara?iframe_url=/ArticleSearchList.nhn%3Fsearch.clubid=10050146%26search.searchBy=0')\n",
    "time.sleep(1)\n",
    "driver.switch_to.frame(driver.find_element_by_name(\"cafe_main\"))\n",
    "\n",
    "search_option={\n",
    "    'board' : \"게시글 전체\",\n",
    "    'period' : \"전체기간\",\n",
    "    'menu' : \"주변기기/악세사리\",\n",
    "    'by' : \"제목만\"\n",
    "}\n",
    "\n",
    "item = \"에어팟\"\n",
    "\n",
    "detail_option = {\n",
    "    'keywords_and' : \"미개봉 에어팟 2\",\n",
    "    'keywords_not' : \"중고폰 삽니다 프로\", \n",
    "    'keywords_or' : \"\", \n",
    "    'sentence' : \"\"\n",
    "}\n",
    "\n",
    "enter_details(driver, search_option, item, detail_option)"
   ]
  },
  {
   "cell_type": "code",
   "execution_count": 11,
   "metadata": {},
   "outputs": [],
   "source": [
    "board_navigator = driver.find_element_by_xpath('//div[@class=\"prev-next\"]')\n",
    "board_list = board_navigator.find_elements_by_tag_name('a')\n",
    "board_href = board_list[0].get_attribute('href')[:-1]\n",
    "board_idx = 0"
   ]
  },
  {
   "cell_type": "markdown",
   "metadata": {},
   "source": [
    "#### Get Posts Links"
   ]
  },
  {
   "cell_type": "code",
   "execution_count": 12,
   "metadata": {},
   "outputs": [
    {
     "name": "stdout",
     "output_type": "stream",
     "text": [
      "read 1 pages 20 posts\n",
      "read 2 pages 55 posts\n",
      "read 3 pages 77 posts\n",
      "read 4 pages 102 posts\n"
     ]
    }
   ],
   "source": [
    "post_key_list=[]\n",
    "author_list=set([])\n",
    "while True:\n",
    "    # change board\n",
    "    board_idx+=1\n",
    "    driver.get(board_href+str(board_idx))\n",
    "    time.sleep(1)\n",
    "    driver.switch_to.frame(driver.find_element_by_name(\"cafe_main\"))\n",
    "    \n",
    "    # get posts in current board\n",
    "    posts = driver.find_elements_by_css_selector('div.article-board > table > tbody > tr')\n",
    "\n",
    "    for post in posts:\n",
    "        \n",
    "        # get valid posts\n",
    "        try:\n",
    "            author = post.find_element_by_class_name('td_name').text.strip()\n",
    "            href = post.find_element_by_class_name('article').get_attribute('href')\n",
    "        except:\n",
    "            continue\n",
    "            \n",
    "        # filter duplicated postings by author\n",
    "        if author in author_list:\n",
    "            continue\n",
    "        post_key_list.append({\"author\": author, \"href\":href})\n",
    "        author_list.add(author)\n",
    "        \n",
    "    # check\n",
    "    print(\"read {} pages {} posts\".format(board_idx, len(post_key_list)))\n",
    "    \n",
    "    # terminate condition\n",
    "    if len(posts) == 0 or len(post_key_list)>100:\n",
    "        break"
   ]
  },
  {
   "cell_type": "markdown",
   "metadata": {},
   "source": [
    "#### Get Price Info"
   ]
  },
  {
   "cell_type": "code",
   "execution_count": 13,
   "metadata": {},
   "outputs": [
    {
     "name": "stdout",
     "output_type": "stream",
     "text": [
      "160,000원 daaaas 애플정품 에어팟 2세대 무선 미개봉 팝니다\n",
      "120,000원 무노4025 에어팟2 미개봉 유선상품 판매\n",
      "140,000원 깅크 에어팟2  유선충전 미개봉 \n",
      "145,000원 wognekrja 에어팟2 유선 미개봉 새상품팝니다.\n",
      "143,000원 Care 에어팟 2세대 유선충전 미개봉 판매합니다!\n",
      "17,000원 햄툐리a 미개봉 미사용 비닐 뜯지 않은 에어팟2 판매 합니다,\n",
      "150,000원 동원참치 서울)잠실)애플코리아정발 에어팟2세대 유선 한국정품 미개봉\n",
      "160,000원 ounga2040 에어팟2세대 무선 국내정품 미개봉 -16만-\n",
      "175,000원 딱딱맨 애플 에어팟 2세대 무선충전 미개봉 새제품 2개 팝니다\n",
      "168,000원 신속안전1초페이 에어팟 2세대 무선충전 미개봉 정품 판매합니다.\n",
      "150,000원 빡틀러 에어팟2 유선 충전 미개봉\n",
      "160,000원 밍대생 ***************에어팟2 무선 미개봉 새상품 팝니다********************\n",
      "168,000원 중고나라1초머니 에어팟 2세대 무선충전 미개봉 정품 판매합니다.\n",
      "150,000원 gudfo5585 (천안) 에어팟2 유선 미개봉새상품 판매합니다~~~@@@@@15만원\n",
      "168,000원 신속안전1초머니 에어팟 2세대 무선충전 미개봉 정품 판매합니다.\n",
      "168,000원 신속안전1초티켓 에어팟 2세대 무선충전 미개봉 정품 판매합니다.\n",
      "145,000원 흠냥 충남 아산 에어팟 2세대 유선충전 미개봉\n",
      "135,000원 아가슈슈 에어팟2 유선 미개봉 13.5만 + 몬카본 라이트닝 케이블\n",
      "168,000원 신속안전지킴이 에어팟 2세대 무선충전 미개봉 정품 판매합니다.\n",
      "168,000원 1초머니입니다 에어팟 2세대 무선충전 미개봉 정품 판매합니다.\n",
      "168,000원 1초머니 에어팟 2세대 무선충전 미개봉 정품 판매합니다.\n",
      "148,000원 1초머니C 에어팟 2세대 유선 미개봉 정품 판매합니다.\n",
      "145,000원 dfffffff [평택] 에어팟2 유선충전 미개봉 팔아요\n",
      "150,000원 모든다2 에어팟2 유선 새제품 미개봉 팝니다\n",
      "145,000원 하잇뿅 에어팟 2세대 유선충전 미개봉\n",
      "150,000원 베베해달 에어팟2세대 무선 미개봉 팝니다\n",
      "146,000원 슈리이ㅇ 애플 에어팟2 유선충전모델 미개봉 새상품 판매해요\n",
      "3,000원 훈짱 에어팟 1 ,2 케이스 (토이스토리, 스누피, 미키마우스) *미개봉 새제품 3천원\n",
      "15,000원 니네엄 <광주>미개봉 에어팟2  유선모델 팝니다\n",
      "143,000원 상태좋아아 에어팟 2세대 유선 미개봉 판매합니다\n",
      "150,000원 구공블랙 대구)에어팟2세대 유선충전 미개봉\n",
      "140,000원 michael_sung 에어팟 2세대 유선충전모델 미개봉 14만\n",
      "180,000원 엘르 판매 상품명 :에어팟2 무선 미개봉(+무선충전패드) 충주. 서울직 \n",
      "155,000원 새롬0919 부산) 에어팟2 미개봉 새제품 싸게 팝니다.\n",
      "140,000원 lololola 에어팟 2세대 미개봉 새상품\n",
      "140,000원 나라노로누루 [미개봉/14만원] 애플코리아 에어팟 2세대 유선충전 미개봉제품 팝니다.\n",
      "110,000원 웅덩잏 미개봉버즈,에어팟2유선 개봉\n",
      "150,000원 라루라루아루 미개봉 새제품 에어팟2 팝니다 ( 배송지변경 스카이에듀 프리패스 )\n",
      "150,000원 ohoo6281 에어팟2세대 유선 미개봉 15만원 판매합니다.\n",
      "145,000원 jps01 Airpods 에어팟2 [미개봉] 판매합니다.\n",
      "140,000원 shin짱 최신제조 //에어팟 2세대 ♡미개봉새상품♡(거래중)\n",
      "140,000원 iloveyou2580 [에어팟2유선] 미개봉판매!!\n",
      "140,000원 sososo0808 에어팟 2세대 유선충전 미개봉팝니다 14만원\n",
      "2,222원 노력해봐 에어팟 2세대 무선 유선 팝니다 미개봉 새상품\n",
      "145,000원 새소원 경기도 안양 미개봉 에어팟2 유선 판매합니다 \n",
      "175,000원 smileboyhym 서울 미개봉 에어팟2 무선 팝니다\n",
      "165,000원 1불타는금요일1 대구)에어팟2 유선 미개봉 팝니다 (택배거래 가능)\n",
      "17,000원 안전거래직 비닐 뜯지 않은 에어팟2 팔아요 (미개봉 제품)\n",
      "165,000원 에어팟장인 (미개봉새제품)국내 정발 에어팟2세대 무선충전 파주,일산 직거래 ㅍㅍ\n",
      "145,000원 처음처럼끝까지한마음 [대구직거래] 애플 에어팟2 (미개봉 / 정품 / 유선) 직거래로 판매합니다.\n",
      "140,000원 wnaudwo123 에어팟 2 미개봉 제품팝니다\n",
      "630,000원 벤틀리GT 애플와치 스페이스 그레이 44mm 48만, 에어팟2 15만 미개봉 직거래\n",
      "640,000원 시우야놀자 애플워치 5세대 44mm 스페이스 그레이 + 에어팟 2세대 유선 (둘다 미개봉) \n",
      "140,000원 tlgm18 에어팟2 미개봉 유선충전 모델 팝니다.\n",
      "150,000원 재키e 에어팟 2세대 유선 미개봉 팝니다\n",
      "150,000원 WK 에어팟 2세대 유선충전 미개봉 택포 15 팝니다(직거래시 14.6)\n",
      "140,000원 wwqq 에어팟 2세대 미개봉 유선충전 팝니다.\n",
      "150,000원 Ohri2333 에어팟2 유선 미개봉 /쿨거14\n",
      "150,000원 아프리카코끼리 에어팟2세대 미개봉 판매합니다\n",
      "17,000원 RAT찌모 비닐 뜯지 않은 에어팟2 팔아요 (완전 미개봉)\n",
      "170,000원 sspicm 애플 에어팟 2세대 무선 미개봉 팝니다\n",
      "150,000원 햇살돛 에어팟 2세대 유선 충전케이스 모델 MV7N2KH/A (미개봉 새제품) 판매\n",
      "146,000원 치명강화도령 에어팟2 유선충전 미개봉 새상품 팝니다.\n",
      "150,000원 쪼호쪼호우 에어팟2세대 유선🎉미개봉 새제품\n",
      "150,000원 라피스라줄리 [미개봉] 에어팟 2세대 팝니다\n",
      "140,000원 모른다잉 에어팟2세대 유선 미개봉 팔아요\n",
      "157,000원 양양 (정품)에어팟2세대 유선 미개봉 상품 팜\n",
      "140,000원 흰종2 [미개봉]에어팟 2세대 유선충전 팝니다.\n",
      "165,000원 harry11 Apple Airpod 2 (애플에어팟 2 무선 / 애플코리아정품 ) 미개봉\n",
      "170,000원 설탕 애플 에어팟 2세대 무선충전 미개봉 새상품 팝니다.\n",
      "140,000원 cg9 ●●오랜만에 컴백 ●에어팟2 유선 무선 미개봉 팝니다\n",
      "168,000원 1초머니B 에어팟 2세대 무선충전 미개봉 정품 판매합니다.\n",
      "150,000원 얄탐 에어팟2 미개봉 새상품 팝니다\n",
      "17,000원 겸손잉 미개봉 비닐 뜯지 않은 에어팟2 팔아요\n",
      "140,000원 Younha7942 [미개봉] 에어팟2 유선충전 새제품 판매합니다\n",
      "169,000원 햇선보이  에어팟2 미개봉 유선 새제품 한국제품 한국 A/S무상리퍼\n",
      "168,000원 중고나라 1초머니 에어팟 2세대 무선충전 미개봉 정품 판매합니다.\n",
      "168,000원 중고나라14년차 에어팟 2세대 무선충전 미개봉 정품 판매합니다.\n",
      "65,000원 톡톡티 에어팟 2세대 무선충전 본체 미개봉 판매합니다 \n",
      "168,000원 안전신속거래1초머니 에어팟 2세대 무선충전 미개봉 정품 판매합니다.\n",
      "33,000원 122KCG [미개봉] [새상품] [질스튜어트쇼핑백] 에어팟1세대, 에어팟2세대 질스튜어트 케이스 싸게 팝니다\n",
      "175,000원 지우고자 에어팟 2세대 무선충전 미개봉 새상품, 정품 판매합니다.\n",
      "170,000원 황미님 에어팟 2세대(유선) 국내정발 미개봉\n",
      "148,000원 monashy39  국내 미개봉 에어팟 2세대 유선 개당 14.8만 2대 쿨거래 판매합니다\n",
      "158,000원 매일mae일 에어팟2 무선 미개봉 (2019-8)\n",
      "140,000원 널닮은조커 [서울/문정] 에어팟2 유선 미개봉 팝니다\n",
      "149,000원 osh21 에어팟2 유선충전 미개봉 새상품\n",
      "150,000원 hbi721 [미개봉] 에어팟 2세대 유선충전 모델 팝니다\n",
      "150,000원 ㅡ하ㅡ 에어팟2 유선 충전 미개봉(제조년월 11월 2019년)\n",
      "160,000원 0423 에어팟2 미개봉 팝니다. (의정부 직거래 우선)\n",
      "2,000원 isji2 (미개봉새상품)에어팟2 유선 판매합니다.\n",
      "168,000원 안전거래지니티켓 인천주안 에어팟 2세대 무선 미개봉 정품 판매합니다\n",
      "165,000원 srdpt_ 에어팟2세대 무선 미개봉 상품 2대 팝니다\n",
      "150,000원 매트런 에어팟2세대유선충전(미개봉새상품)\n",
      "150,000원 djakfuu 에어팟 2세대 유선충전 미개봉 판매합니다\n",
      "160,000원 gatz 미개봉 정품 에어팟 2세대 (무선 충전)\n",
      "150,000원 하영 에어팟 2세대 유선충전 미개봉 15만원\n",
      "140,000원 우기ㅡㅡ (미개봉 새제품)에어팟2 유선충전 판매합니다\n",
      "150,000원 ajsjfj 에어팟 2세대 유선충전 미개봉 15팝니다\n",
      "170,000원 smkim097 애플에어팟 2세대 무선 미개봉\n",
      "140,000원 soohan1313 애플 에어팟2세대 유선충전 모델 팝니다.(미개봉)\n",
      "155,000원 말태봉 에어팟2 유선 미개봉상품 팝니다!!\n"
     ]
    }
   ],
   "source": [
    "price_info=[]\n",
    "for post_key in post_key_list:\n",
    "    try:\n",
    "        post_info = get_post_info(driver, post_key[\"href\"])\n",
    "        print(post_info['cost'], post_key[\"author\"], post_info['title'])\n",
    "        price_info.append(post_info)\n",
    "    except:\n",
    "        print(\"cannot attach post\")\n",
    "\n",
    "price_info_pd=pd.DataFrame(price_info)\n",
    "price_info_pd.to_csv(item+\"_price_info.csv\")"
   ]
  },
  {
   "cell_type": "code",
   "execution_count": null,
   "metadata": {},
   "outputs": [],
   "source": []
  }
 ],
 "metadata": {
  "kernelspec": {
   "display_name": "Python [conda env:crawler] *",
   "language": "python",
   "name": "conda-env-crawler-py"
  },
  "language_info": {
   "codemirror_mode": {
    "name": "ipython",
    "version": 3
   },
   "file_extension": ".py",
   "mimetype": "text/x-python",
   "name": "python",
   "nbconvert_exporter": "python",
   "pygments_lexer": "ipython3",
   "version": "3.7.5"
  }
 },
 "nbformat": 4,
 "nbformat_minor": 2
}
