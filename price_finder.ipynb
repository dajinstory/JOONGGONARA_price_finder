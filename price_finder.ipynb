{
 "cells": [
  {
   "cell_type": "markdown",
   "metadata": {},
   "source": [
    "## Import Libraries"
   ]
  },
  {
   "cell_type": "code",
   "execution_count": 1,
   "metadata": {},
   "outputs": [],
   "source": [
    "from selenium.webdriver.common.action_chains import ActionChains\n",
    "from selenium.webdriver.common.keys import Keys\n",
    "from selenium.webdriver.support.ui import WebDriverWait\n",
    "from selenium.webdriver.support import expected_conditions as EC\n",
    "from selenium.webdriver.common.by import By\n",
    "from selenium import webdriver\n",
    "from bs4 import BeautifulSoup as bs\n",
    "import pyperclip\n",
    "\n",
    "import pandas as pd\n",
    "import time"
   ]
  },
  {
   "cell_type": "markdown",
   "metadata": {},
   "source": [
    "### Clipboard copy"
   ]
  },
  {
   "cell_type": "code",
   "execution_count": 2,
   "metadata": {},
   "outputs": [],
   "source": [
    "def clipboard_input(driver, user_input):\n",
    "    # save existing clipboard data\n",
    "    existing_clipboard = pyperclip.paste()\n",
    "\n",
    "    # copy user_input to clipboard. then paste it\n",
    "    pyperclip.copy(user_input)\n",
    "    ActionChains(driver).key_down(Keys.CONTROL).send_keys('v').key_up(Keys.CONTROL).perform()\n",
    "\n",
    "    # recover the original clipboard data\n",
    "    pyperclip.copy(existing_clipboard)  \n",
    "    time.sleep(1)"
   ]
  },
  {
   "cell_type": "markdown",
   "metadata": {},
   "source": [
    "### Load user info"
   ]
  },
  {
   "cell_type": "code",
   "execution_count": 3,
   "metadata": {},
   "outputs": [],
   "source": [
    "def load_user_info():\n",
    "    f = open('user_info.txt', 'r')\n",
    "    user_info = f.readlines()\n",
    "    f.close()\n",
    "    \n",
    "    return user_info[0][:-1], user_info[1][:-1]"
   ]
  },
  {
   "cell_type": "markdown",
   "metadata": {},
   "source": [
    "### Naver Login"
   ]
  },
  {
   "cell_type": "code",
   "execution_count": 4,
   "metadata": {},
   "outputs": [],
   "source": [
    "def login_naver(driver, user_id, user_pw):\n",
    "    # naver login page\n",
    "    driver.get('https://nid.naver.com/nidlogin.login?svctype=262144&url=http://m.naver.com/aside/')\n",
    "\n",
    "    # input id \n",
    "    driver.find_element_by_xpath('//*[@id=\"id\"]').click()\n",
    "    clipboard_input(driver, user_id)\n",
    "\n",
    "    # input pw\n",
    "    driver.find_element_by_xpath('//*[@id=\"pw\"]').click()\n",
    "    clipboard_input(driver, user_pw)\n",
    "\n",
    "    # click login btn\n",
    "    driver.find_element_by_xpath('//*[@id=\"frmNIDLogin\"]/fieldset/input').click()\n",
    "    time.sleep(1)\n",
    "\n",
    "    # click \n",
    "    driver.find_element_by_xpath('//span[@class=\"btn_cancel\"]').click()"
   ]
  },
  {
   "cell_type": "markdown",
   "metadata": {},
   "source": [
    "### Enter Details to search in Joonggonara"
   ]
  },
  {
   "cell_type": "code",
   "execution_count": 5,
   "metadata": {},
   "outputs": [],
   "source": [
    "def get_idx_of_selected_option(option_list, input_text):\n",
    "    for idx, option in enumerate(option_list):\n",
    "        if option.text == input_text:\n",
    "            return idx\n",
    "    return -1"
   ]
  },
  {
   "cell_type": "code",
   "execution_count": 6,
   "metadata": {},
   "outputs": [],
   "source": [
    "def enter_details(driver, search_option, item, detail_option):    \n",
    "    # show 50 items\n",
    "    driver.find_element_by_xpath('//div[@id=\"listSizeSelectDiv\"]').click()\n",
    "    time.sleep(1)\n",
    "    listSize_list = driver.find_elements_by_xpath('//div[@id=\"listSizeSelectDiv\"]/ul/li')\n",
    "    listSize_list[-1].click()\n",
    "    time.sleep(1)\n",
    "    \n",
    "    # set search options\n",
    "    driver.find_element_by_xpath('//div[@id=\"searchOptionSelectDiv\"]').click()\n",
    "    searchBoard_list = driver.find_elements_by_xpath('//div[@id=\"searchOptionSelectDiv\"]/ul/li')\n",
    "    searchBoard_list[get_idx_of_selected_option(searchBoard_list, search_option['board'])].click()\n",
    "    time.sleep(1)\n",
    "    \n",
    "    driver.find_element_by_xpath('//div[@id=\"divSearchDateTop\"]').click()\n",
    "    searchDate_list = driver.find_elements_by_xpath('//div[@id=\"divSearchDateTop\"]/ul/li')\n",
    "    searchDate_list[get_idx_of_selected_option(searchDate_list, search_option['period'])].click()\n",
    "    \n",
    "    driver.find_element_by_xpath('//div[@id=\"divSearchMenuTop\"]').click()\n",
    "    searchMenu_list = driver.find_elements_by_xpath('//div[@id=\"divSearchMenuTop\"]/ul/li')\n",
    "    searchMenu_list[get_idx_of_selected_option(searchMenu_list, search_option['menu'])].click()\n",
    "    \n",
    "    driver.find_element_by_xpath('//div[@id=\"divSearchByTop\"]').click()\n",
    "    searchBy_list = driver.find_elements_by_xpath('//div[@id=\"divSearchByTop\"]/ul/li')\n",
    "    searchBy_list[get_idx_of_selected_option(searchBy_list, search_option['by'])].click()\n",
    "    \n",
    "    # enter item\n",
    "    driver.find_element_by_xpath('//input[@placeholder=\"검색어를 입력해주세요\"]').send_keys(item)\n",
    "    \n",
    "    # click detail search btn\n",
    "    driver.find_element_by_xpath('//*[@id=\"detailSearchBtn\"]').click()\n",
    "\n",
    "    # enter detail options\n",
    "    driver.find_element_by_xpath('//input[@placeholder=\"다음 단어 모두 포함\"]').send_keys(detail_option['keywords_and'])\n",
    "    driver.find_element_by_xpath('//input[@placeholder=\"다음 단어 제외\"]').send_keys(detail_option['keywords_not'])\n",
    "    driver.find_element_by_xpath('//input[@placeholder=\"다음 단어 중 1개 이상 포함\"]').send_keys(detail_option['keywords_or'])\n",
    "    driver.find_element_by_xpath('//input[@placeholder=\"다음 어절, 어구 정확히 일치\"]').send_keys(detail_option['sentence'])\n",
    "    \n",
    "    \n",
    "    # search\n",
    "    driver.find_element_by_xpath('//form[@name=\"frmSearchTop\"]/div[@class=\"input_search_area\"]/button[@class=\"btn-search-green\"]').click()\n",
    "    \n",
    "    time.sleep(1)"
   ]
  },
  {
   "cell_type": "markdown",
   "metadata": {},
   "source": [
    "### Get Product Info"
   ]
  },
  {
   "cell_type": "code",
   "execution_count": 7,
   "metadata": {},
   "outputs": [],
   "source": [
    "def get_post_info(driver, href):\n",
    "    driver.get(href)\n",
    "    time.sleep(1)\n",
    "    driver.switch_to.frame('cafe_main')\n",
    "    soup = bs(driver.page_source, 'html.parser')\n",
    "\n",
    "    # post_title\n",
    "    title = soup.select('div.tit-box span.b')[0].get_text()\n",
    "    \n",
    "    # posted_cost\n",
    "    try:\n",
    "        cost = soup.select('span.cost')[0].get_text()\n",
    "    except:\n",
    "        cost = 0\n",
    "\n",
    "    # merge contents to single text\n",
    "    content_tags = soup.select('#tbody')[0].select('p')\n",
    "    content = ' '.join([ tags.get_text() for tags in content_tags ])\n",
    "    \n",
    "    time.sleep(1)\n",
    "\n",
    "    return {'cost':cost, 'title' : title, 'content' : content}"
   ]
  },
  {
   "cell_type": "markdown",
   "metadata": {},
   "source": [
    "#### Run ChromeDriver"
   ]
  },
  {
   "cell_type": "code",
   "execution_count": 8,
   "metadata": {},
   "outputs": [],
   "source": [
    "driver = webdriver.Chrome()\n",
    "driver.implicitly_wait(2)"
   ]
  },
  {
   "cell_type": "markdown",
   "metadata": {},
   "source": [
    "#### Login Naver"
   ]
  },
  {
   "cell_type": "code",
   "execution_count": 9,
   "metadata": {},
   "outputs": [],
   "source": [
    "user_id, user_pw = load_user_info()\n",
    "login_naver(driver, user_id, user_pw)"
   ]
  },
  {
   "cell_type": "markdown",
   "metadata": {},
   "source": [
    "#### Search items from Joonggonara and get boards"
   ]
  },
  {
   "cell_type": "code",
   "execution_count": 10,
   "metadata": {},
   "outputs": [],
   "source": [
    "# log onto Joonggonara and enter details\n",
    "driver.get('https://cafe.naver.com/joonggonara?iframe_url=/ArticleSearchList.nhn%3Fsearch.clubid=10050146%26search.searchBy=0')\n",
    "time.sleep(1)\n",
    "driver.switch_to.frame(driver.find_element_by_name(\"cafe_main\"))\n",
    "\n",
    "search_option={\n",
    "    'board' : \"게시글 전체\",\n",
    "    'period' : \"전체기간\",\n",
    "    'menu' : \"주변기기/악세사리\",\n",
    "    'by' : \"제목만\"\n",
    "}\n",
    "\n",
    "item = \"에어팟\"\n",
    "\n",
    "detail_option = {\n",
    "    'keywords_and' : \"미개봉 프로 에어팟 2\",\n",
    "    'keywords_not' : \"중고폰 삽니다 사요 구매 구함 구해요 구합니다\", \n",
    "    'keywords_or' : \"\", \n",
    "    'sentence' : \"\"\n",
    "}\n",
    "\n",
    "num_of_items=500\n",
    "\n",
    "enter_details(driver, search_option, item, detail_option)"
   ]
  },
  {
   "cell_type": "code",
   "execution_count": 11,
   "metadata": {},
   "outputs": [],
   "source": [
    "board_navigator = driver.find_element_by_xpath('//div[@class=\"prev-next\"]')\n",
    "board_list = board_navigator.find_elements_by_tag_name('a')\n",
    "board_href = board_list[0].get_attribute('href')[:-1]\n",
    "board_idx = 0"
   ]
  },
  {
   "cell_type": "markdown",
   "metadata": {},
   "source": [
    "#### Get Posts Links"
   ]
  },
  {
   "cell_type": "code",
   "execution_count": 12,
   "metadata": {},
   "outputs": [
    {
     "name": "stdout",
     "output_type": "stream",
     "text": [
      "read 1 pages 11 posts. and 11 new posts\n",
      "read 2 pages 11 posts. and 0 new posts\n"
     ]
    }
   ],
   "source": [
    "post_key_list=[]\n",
    "author_list=set([])\n",
    "while True:\n",
    "    # change board\n",
    "    board_idx+=1\n",
    "    driver.get(board_href+str(board_idx))\n",
    "    time.sleep(1)\n",
    "    driver.switch_to.frame(driver.find_element_by_name(\"cafe_main\"))\n",
    "    \n",
    "    # get posts in current board\n",
    "    posts = driver.find_elements_by_css_selector('div.article-board > table > tbody > tr')\n",
    "    num_of_new_posts = len(posts)\n",
    "    \n",
    "    for post in posts:\n",
    "        \n",
    "        # get valid posts\n",
    "        try:\n",
    "            author = post.find_element_by_class_name('td_name').text.strip()\n",
    "            href = post.find_element_by_class_name('article').get_attribute('href')\n",
    "        except:\n",
    "            num_of_new_posts-=1\n",
    "            continue\n",
    "            \n",
    "        # filter duplicated postings by author\n",
    "        if author in author_list:\n",
    "            num_of_new_posts-=1\n",
    "            continue\n",
    "        post_key_list.append({\"author\": author, \"href\":href})\n",
    "        author_list.add(author)\n",
    "        \n",
    "    # check\n",
    "    print(\"read {} pages {} posts. and {} new posts\".format(board_idx, len(post_key_list), num_of_new_posts))\n",
    "    \n",
    "    # terminate condition\n",
    "    if num_of_new_posts == 0 or len(post_key_list)>num_of_items:\n",
    "        break"
   ]
  },
  {
   "cell_type": "markdown",
   "metadata": {},
   "source": [
    "#### Get Price Info"
   ]
  },
  {
   "cell_type": "code",
   "execution_count": 13,
   "metadata": {},
   "outputs": [
    {
     "name": "stdout",
     "output_type": "stream",
     "text": [
      "320,000원 golf spyder 애플 에어팟 프로 (미개봉) 팝니다! 2\n",
      "319,000원 정품만판매해용 에어팟 프로 2개  애플코리아 미개봉 새제품\n",
      "5,555원 마쉐라람버르 에어팟프로28만원급처합니다 미개봉 새재품 에어팟2 무선 15만원 급처판매요 미개봉\n",
      "149,900원 영원한건노 국내 정품- 에어팟2 유선/ 에어팟 프로 2개 애플코리아 미개봉 새제품\n",
      "140,000원 cg9 ●●오랜만에 컴백 에어팟2 유선 무선 에어팟프로 미개봉 15대 팝니다 \n",
      "162,000원 이디야 장인 (미개봉)에어팟프로 30.5만 에어팟2 무선 16.2만 아이패드미니5세대 42만 팝니다\n",
      "280,000원 woyou74 갤럭시엑티브2 44mm 미개봉핑크,실버팔거나 에어팟프로교환함(악세서리,스트렙할인권포함) \n",
      "360,000원 0837 에어팟 프로 미개봉 판매합니다. 수령 완료. 즉시 거래 가능. 애플케어플러스 무상리퍼 2회 가능. 36만원. 강남역/방배역/내방역\n",
      "240,000원 검찰개혁공수처설치 에어팟 프로 미개봉 카톡사기 xstarx2   dudau219\n",
      "310,000원 cocoar 에어팟프로 미개봉 , 애플워치2 42mm 알루미늄 떨이 팝니다.\n",
      "280,000원 레고냥이 갤럭시워치액티브2 미개봉44mm실버 에어팟프로 아이패드 교환가능\n"
     ]
    }
   ],
   "source": [
    "price_info=[]\n",
    "for post_key in post_key_list:\n",
    "    try:\n",
    "        post_info = get_post_info(driver, post_key[\"href\"])\n",
    "        print(post_info['cost'], post_key[\"author\"], post_info['title'])\n",
    "        price_info.append(post_info)\n",
    "    except:\n",
    "        print(\"cannot attach post\")\n",
    "\n",
    "price_info_pd=pd.DataFrame(price_info)\n",
    "price_info_pd.to_csv(\"output/20200131_프로_\"+item+\"_price_info.csv\")"
   ]
  },
  {
   "cell_type": "code",
   "execution_count": null,
   "metadata": {},
   "outputs": [],
   "source": []
  }
 ],
 "metadata": {
  "kernelspec": {
   "display_name": "Python [conda env:crawler] *",
   "language": "python",
   "name": "conda-env-crawler-py"
  },
  "language_info": {
   "codemirror_mode": {
    "name": "ipython",
    "version": 3
   },
   "file_extension": ".py",
   "mimetype": "text/x-python",
   "name": "python",
   "nbconvert_exporter": "python",
   "pygments_lexer": "ipython3",
   "version": "3.7.5"
  }
 },
 "nbformat": 4,
 "nbformat_minor": 2
}
