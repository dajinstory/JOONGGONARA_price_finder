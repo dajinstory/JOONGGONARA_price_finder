{
 "cells": [
  {
   "cell_type": "markdown",
   "metadata": {},
   "source": [
    "## Import Libraries"
   ]
  },
  {
   "cell_type": "code",
   "execution_count": 2,
   "metadata": {},
   "outputs": [],
   "source": [
    "from selenium.webdriver.common.action_chains import ActionChains\n",
    "from selenium.webdriver.common.keys import Keys\n",
    "from selenium.webdriver.support.ui import WebDriverWait\n",
    "from selenium.webdriver.support import expected_conditions as EC\n",
    "from selenium.webdriver.common.by import By\n",
    "from selenium import webdriver\n",
    "from bs4 import BeautifulSoup as bs\n",
    "import pyperclip\n",
    "\n",
    "import pandas as pd\n",
    "import time"
   ]
  },
  {
   "cell_type": "markdown",
   "metadata": {},
   "source": [
    "### Clipboard copy"
   ]
  },
  {
   "cell_type": "code",
   "execution_count": 3,
   "metadata": {},
   "outputs": [],
   "source": [
    "def clipboard_input(driver, user_input):\n",
    "    # save existing clipboard data\n",
    "    existing_clipboard = pyperclip.paste()\n",
    "\n",
    "    # copy user_input to clipboard. then paste it\n",
    "    pyperclip.copy(user_input)\n",
    "    ActionChains(driver).key_down(Keys.CONTROL).send_keys('v').key_up(Keys.CONTROL).perform()\n",
    "\n",
    "    # recover the original clipboard data\n",
    "    pyperclip.copy(existing_clipboard)  \n",
    "    time.sleep(1)"
   ]
  },
  {
   "cell_type": "markdown",
   "metadata": {},
   "source": [
    "### Load user info"
   ]
  },
  {
   "cell_type": "code",
   "execution_count": 4,
   "metadata": {},
   "outputs": [],
   "source": [
    "def load_user_info():\n",
    "    f = open('user_info.txt', 'r')\n",
    "    user_info = f.readlines()\n",
    "    f.close()\n",
    "    \n",
    "    return user_info[0][:-1], user_info[1][:-1]"
   ]
  },
  {
   "cell_type": "markdown",
   "metadata": {},
   "source": [
    "### Naver Login"
   ]
  },
  {
   "cell_type": "code",
   "execution_count": 5,
   "metadata": {},
   "outputs": [],
   "source": [
    "def login_naver(driver, user_id, user_pw):\n",
    "    # naver login page\n",
    "    driver.get('https://nid.naver.com/nidlogin.login?svctype=262144&url=http://m.naver.com/aside/')\n",
    "\n",
    "    # input id \n",
    "    driver.find_element_by_xpath('//*[@id=\"id\"]').click()\n",
    "    clipboard_input(driver, user_id)\n",
    "\n",
    "    # input pw\n",
    "    driver.find_element_by_xpath('//*[@id=\"pw\"]').click()\n",
    "    clipboard_input(driver, user_pw)\n",
    "\n",
    "    # click login btn\n",
    "    driver.find_element_by_xpath('//*[@id=\"frmNIDLogin\"]/fieldset/input').click()\n",
    "    time.sleep(1)\n",
    "\n",
    "    # click \n",
    "    driver.find_element_by_xpath('//span[@class=\"btn_cancel\"]').click()"
   ]
  },
  {
   "cell_type": "markdown",
   "metadata": {},
   "source": [
    "### Enter Details to search in Joonggonara"
   ]
  },
  {
   "cell_type": "code",
   "execution_count": 6,
   "metadata": {},
   "outputs": [],
   "source": [
    "def get_idx_of_selected_option(option_list, input_text):\n",
    "    for idx, option in enumerate(option_list):\n",
    "        if option.text == input_text:\n",
    "            return idx\n",
    "    return -1"
   ]
  },
  {
   "cell_type": "code",
   "execution_count": 7,
   "metadata": {},
   "outputs": [],
   "source": [
    "def enter_details(driver, search_option, item, detail_option):    \n",
    "    # show 50 items\n",
    "    driver.find_element_by_xpath('//div[@id=\"listSizeSelectDiv\"]').click()\n",
    "    time.sleep(1)\n",
    "    listSize_list = driver.find_elements_by_xpath('//div[@id=\"listSizeSelectDiv\"]/ul/li')\n",
    "    listSize_list[-1].click()\n",
    "    time.sleep(1)\n",
    "    \n",
    "    # set search options\n",
    "    driver.find_element_by_xpath('//div[@id=\"searchOptionSelectDiv\"]').click()\n",
    "    searchBoard_list = driver.find_elements_by_xpath('//div[@id=\"searchOptionSelectDiv\"]/ul/li')\n",
    "    searchBoard_list[get_idx_of_selected_option(searchBoard_list, search_option['board'])].click()\n",
    "    time.sleep(1)\n",
    "    \n",
    "    driver.find_element_by_xpath('//div[@id=\"divSearchDateTop\"]').click()\n",
    "    searchDate_list = driver.find_elements_by_xpath('//div[@id=\"divSearchDateTop\"]/ul/li')\n",
    "    searchDate_list[get_idx_of_selected_option(searchDate_list, search_option['period'])].click()\n",
    "    \n",
    "    driver.find_element_by_xpath('//div[@id=\"divSearchMenuTop\"]').click()\n",
    "    searchMenu_list = driver.find_elements_by_xpath('//div[@id=\"divSearchMenuTop\"]/ul/li')\n",
    "    searchMenu_list[get_idx_of_selected_option(searchMenu_list, search_option['menu'])].click()\n",
    "    \n",
    "    driver.find_element_by_xpath('//div[@id=\"divSearchByTop\"]').click()\n",
    "    searchBy_list = driver.find_elements_by_xpath('//div[@id=\"divSearchByTop\"]/ul/li')\n",
    "    searchBy_list[get_idx_of_selected_option(searchBy_list, search_option['by'])].click()\n",
    "    \n",
    "    # enter item\n",
    "    driver.find_element_by_xpath('//input[@placeholder=\"검색어를 입력해주세요\"]').send_keys(item)\n",
    "    \n",
    "    # click detail search btn\n",
    "    driver.find_element_by_xpath('//*[@id=\"detailSearchBtn\"]').click()\n",
    "\n",
    "    # enter detail options\n",
    "    driver.find_element_by_xpath('//input[@placeholder=\"다음 단어 모두 포함\"]').send_keys(detail_option['keywords_and'])\n",
    "    driver.find_element_by_xpath('//input[@placeholder=\"다음 단어 제외\"]').send_keys(detail_option['keywords_not'])\n",
    "    driver.find_element_by_xpath('//input[@placeholder=\"다음 단어 중 1개 이상 포함\"]').send_keys(detail_option['keywords_or'])\n",
    "    driver.find_element_by_xpath('//input[@placeholder=\"다음 어절, 어구 정확히 일치\"]').send_keys(detail_option['sentence'])\n",
    "    \n",
    "    \n",
    "    # search\n",
    "    driver.find_element_by_xpath('//form[@name=\"frmSearchTop\"]/div[@class=\"input_search_area\"]/button[@class=\"btn-search-green\"]').click()\n",
    "    \n",
    "    time.sleep(1)"
   ]
  },
  {
   "cell_type": "markdown",
   "metadata": {},
   "source": [
    "### Get Product Info"
   ]
  },
  {
   "cell_type": "code",
   "execution_count": 8,
   "metadata": {},
   "outputs": [],
   "source": [
    "def get_post_info(driver, href):\n",
    "    driver.get(href)\n",
    "    time.sleep(1)\n",
    "    driver.switch_to.frame('cafe_main')\n",
    "    soup = bs(driver.page_source, 'html.parser')\n",
    "\n",
    "    # post_title\n",
    "    title = soup.select('div.tit-box span.b')[0].get_text()\n",
    "    \n",
    "    # posted_cost\n",
    "    try:\n",
    "        cost = soup.select('span.cost')[0].get_text()\n",
    "    except:\n",
    "        cost = 0\n",
    "\n",
    "    # merge contents to single text\n",
    "    content_tags = soup.select('#tbody')[0].select('p')\n",
    "    content = ' '.join([ tags.get_text() for tags in content_tags ])\n",
    "    \n",
    "    time.sleep(1)\n",
    "\n",
    "    return {'cost':cost, 'title' : title, 'content' : content}"
   ]
  },
  {
   "cell_type": "markdown",
   "metadata": {},
   "source": [
    "#### Run ChromeDriver"
   ]
  },
  {
   "cell_type": "code",
   "execution_count": 9,
   "metadata": {},
   "outputs": [],
   "source": [
    "driver = webdriver.Chrome()\n",
    "driver.implicitly_wait(2)"
   ]
  },
  {
   "cell_type": "markdown",
   "metadata": {},
   "source": [
    "#### Login Naver"
   ]
  },
  {
   "cell_type": "code",
   "execution_count": 10,
   "metadata": {},
   "outputs": [],
   "source": [
    "user_id, user_pw = load_user_info()\n",
    "login_naver(driver, user_id, user_pw)"
   ]
  },
  {
   "cell_type": "markdown",
   "metadata": {},
   "source": [
    "#### Search items from Joonggonara and get boards"
   ]
  },
  {
   "cell_type": "code",
   "execution_count": 11,
   "metadata": {},
   "outputs": [],
   "source": [
    "# log onto Joonggonara and enter details\n",
    "driver.get('https://cafe.naver.com/joonggonara?iframe_url=/ArticleSearchList.nhn%3Fsearch.clubid=10050146%26search.searchBy=0')\n",
    "time.sleep(1)\n",
    "driver.switch_to.frame(driver.find_element_by_name(\"cafe_main\"))\n",
    "\n",
    "search_option={\n",
    "    'board' : \"게시글 전체\",\n",
    "    'period' : \"전체기간\",\n",
    "    'menu' : \"주변기기/악세사리\",\n",
    "    'by' : \"제목만\"\n",
    "}\n",
    "\n",
    "item = \"에어팟\"\n",
    "\n",
    "detail_option = {\n",
    "    'keywords_and' : \"미개봉\", \n",
    "    'keywords_not' : \"프로 중고폰\", \n",
    "    'keywords_or' : \"유선\", \n",
    "    'sentence' : \"\"\n",
    "}\n",
    "\n",
    "enter_details(driver, search_option, item, detail_option)"
   ]
  },
  {
   "cell_type": "code",
   "execution_count": 12,
   "metadata": {},
   "outputs": [],
   "source": [
    "board_navigator = driver.find_element_by_xpath('//div[@class=\"prev-next\"]')\n",
    "board_list = board_navigator.find_elements_by_tag_name('a')\n",
    "board_href = board_list[1].get_attribute('href')[:-1]\n",
    "board_idx = 0"
   ]
  },
  {
   "cell_type": "markdown",
   "metadata": {},
   "source": [
    "#### Get Posts Links"
   ]
  },
  {
   "cell_type": "code",
   "execution_count": 13,
   "metadata": {},
   "outputs": [
    {
     "name": "stdout",
     "output_type": "stream",
     "text": [
      "read 1 pages 50 posts\n",
      "read 2 pages 100 posts\n"
     ]
    }
   ],
   "source": [
    "post_link_list=[]\n",
    "while True:\n",
    "    # change board\n",
    "    board_idx+=1\n",
    "    driver.get(board_href+str(board_idx))\n",
    "    time.sleep(1)\n",
    "    driver.switch_to.frame(driver.find_element_by_name(\"cafe_main\"))\n",
    "    \n",
    "    # get posts\n",
    "    post_list = driver.find_elements_by_class_name('article')\n",
    "    for post in post_list:\n",
    "        post_link_list.append(post.get_attribute('href'))\n",
    "    \n",
    "    # check\n",
    "    print(\"read {} pages {} posts\".format(board_idx, len(post_link_list)))\n",
    "    \n",
    "    # terminate condition\n",
    "    if len(post_list) == 0 or board_idx>1:\n",
    "        break"
   ]
  },
  {
   "cell_type": "markdown",
   "metadata": {},
   "source": [
    "#### Get Price Info"
   ]
  },
  {
   "cell_type": "code",
   "execution_count": 14,
   "metadata": {},
   "outputs": [
    {
     "name": "stdout",
     "output_type": "stream",
     "text": [
      "140,000원 (미개봉)에어팟2유선 14만팝니다 서울!\n",
      "130,000원 에어팟 2(유선) 미개봉 삽니다\n",
      "152,000원 에어팟2세대 유선충전 미개봉 새제품 MV7N2KH/A\n",
      "150,000원 에어팟 2세대 유선충전(미개봉) 15만 팝니다\n",
      "150,000원 에어팟/유선/미개봉 새제품 팝니다:) \n",
      "149,000원 애플 에어팟 2세대 유선  - 미개봉 새제품 ( MV7N2KH/A )\n",
      "140,000원 에어팟2(유선) 미개봉 제품 판매합니다.\n",
      "150,000원 ▶▷애플 에어팟 2세대 유선 충전 모델, MV7N2KH/A 미개봉 새상품 판매합니다.\n",
      "170,000원 에어팟2 유선충전 미개봉 \n",
      "155,000원 에어팟 2세대 유선충전 미개봉 팝니다 (택포)\n",
      "130,000원 [직거래] 에어팟2 유선 충전 미개봉 정품 1대 삽니다 \n",
      "2,000원 전주) 미개봉 에어팟2 유선모델 팝니다 싸게\n",
      "150,000원 울산 에어팟2세대 유선 미개봉 울산직거래가능\n",
      "140,000원 (급) 에어팟2 (유선) 미개봉 팜\n",
      "150,000원 에어팟 2세대 유선충전 미개봉 판매합니다.\n",
      "150,000원 에어팟2세대 유선 정품 미개봉 제품팝니다. 광주\n",
      "150,000원 미개봉 유선 에어팟2 + 새 케이스\n",
      "150,000원 에어팟 2세대 유선충전 애플코리아 정품 미개봉 팝니다.\n",
      "150,000원 에어팟2 유선/무선 미개봉 새상품 판매\n",
      "140,000원 에어팟2 유선 (미개봉)판매합니다.\n",
      "150,000원 에어팟2세대 유선 국내정식 미개봉  15만\n",
      "145,000원 애플코리아 정품)애플 에어팟2세대 유선 미개봉 새상품 팝니다 언주역 직거래 \n",
      "145,000원 애플코리아 정품)애플 에어팟2세대 유선 미개봉 새상품 팝니다 언주역 직거래 \n",
      "145,000원 애플코리아 정품)애플 에어팟2세대 유선 미개봉 새상품 팝니다 언주역 직거래 \n",
      "2,222원 에어팟 2세대 미개봉 유선  국내정품 팝니다\n",
      "140,000원 에어팟2세대 (유선) 미개봉 새상품 팝니다.\n",
      "152,000원 에어팟2세대 유선충전 미개봉 새제품 MV7N2KH/A\n",
      "160,000원 에어팟2 유선충전 미개봉새상품(철가루스티커+케이스)\n",
      "2,222원 에어팟2 유선 미개봉 새제품 팝니다. \n",
      "150,000원 [미개봉] 에어팟 2세대 유선 15만원에 팝니다. 애플코리아 정품 \n",
      "130,000원 미개봉 에어팟2세대 삽니다. 유선 13만원 무선 15만원. 구입 원해요.\n",
      "148,000원 애플 에어팟2 유선충전모델 미개봉 새상품 판매해요\n",
      "150,000원  에어팟2 유선 애플코리아 미개봉 새제품 \n",
      "150,000원 에어팟2세대 유선충전모델 미개봉 새제품팔아요\n",
      "148,000원 [판매] 에어팟 2세대 (유선) 미개봉 상품 및 보호케이스 / AirPods 2nd Gen\n",
      "152,000원 에어팟2세대 유선충전 미개봉정품 MV7N2KH/A\n",
      "152,000원 에어팟2세대 유선충전 미개봉정품 MV7N2KH/A\n",
      "152,000원 에어팟2세대 유선충전 미개봉정품 MV7N2KH/A\n",
      "152,000원 에어팟2세대 유선충전 미개봉정품 MV7N2KH/A\n",
      "160,000원 애플 에어팟 2세대 유선 미개봉 판매합니다\n",
      "152,000원 에어팟2세대 유선충전 미개봉정품 MV7N2KH/A\n",
      "152,000원 에어팟2세대 유선충전 미개봉정품 MV7N2KH/A\n",
      "145,000원 애플코리아 정품)애플 에어팟2세대 유선 미개봉 새상품 팝니다 언주역 직거래 \n",
      "150,000원 미개봉 에어팟2세대 유선 팝니다\n",
      "145,000원 애플코리아 정품)애플 에어팟2세대 유선 미개봉 새상품 팝니다 언주역 직거래 \n",
      "146,000원 에어팟(Airpods) 2세대 유선충전 (미개봉)\n",
      "163,000원 에어팟2세대 유선충전 미개봉새제품 판매합니다 \n",
      "149,000원 에어팟 2세대 유선 미개봉 새제품\n",
      "145,000원 에어팟 2세대 유선 충전케이스 모델 MV7N2KH/A  (미개봉 새제품) 판매\n",
      "150,000원 미개봉 에어팟2 유선 팝니다\n",
      "145,000원  <미개봉><14.5만>에어팟 2세대 유선싸게 급처합니다. 서울 2호선 선릉역 주변 에서직거래해요.\n",
      "145,000원 에어팟2 유선충전미개봉판매합니다\n",
      "150,000원 에어팟2세대 유선 정품 미개봉 제품팝니다. (광주)\n",
      "130,000원 [삽니다 ]에어팟2 유선 삽니다!!!미개봉(울산 직거래)\n",
      "155,000원 에어팟2세대 유선 정품 미개봉 제품팝니다. (광주)\n",
      "150,000원 애플 에어팟2 유선충전 미개봉 판매합니다.\n",
      "155,000원 에어팟 2세대 유선충전 (미개봉 새상품) 판매합니다!\n",
      "150,000원 애플코리아 정품- 애플 에어팟 2세대 유선 미개봉 새상품 팝니다 \n",
      "145,000원 애플코리아 정품)애플 에어팟2세대 유선 미개봉 새상품 팝니다 언주역 직거래 \n",
      "150,000원 애플코리아 정품)애플 에어팟2세대 유선 미개봉 새상품 팝니다 역삼역 언주역 직거래 \n",
      "150,000원 애플코리아 정품)애플 에어팟2세대 유선 미개봉 새상품 팝니다 역삼역 언주역 직거래 \n",
      "150,000원 애플코리아 정품)애플 에어팟2세대 유선 미개봉 새상품 팝니다 역삼역 언주역 직거래 \n",
      "155,000원 에어팟2세대 유선 정품 미개봉 제품팝니다. (광주)\n",
      "155,000원 에어팟 2세대 유선충전 미개봉\n",
      "150,000원 에어팟 2세대 유선충전 미개봉 새상품+케이스+철가루방지스티커\n",
      "150,000원 애플코리아 정품)애플 에어팟2세대 유선 미개봉 새상품 팝니다 역삼역 언주역 직거래 \n",
      "150,000원 애플코리아 정품)애플 에어팟2세대 유선 미개봉 새상품 팝니다 역삼역 언주역 직거래 \n",
      "160,000원 에어팟2 유선충전 미개봉새상품(철가루스티커+케이스)\n",
      "155,000원 에어팟2세대 유선 정품 미개봉 제품팝니다. (광주)\n",
      "152,000원 에어팟2 유선충전 미개봉\n",
      "150,000원 에어팟 2세대 유선충전 미개봉 운포 15\n",
      "145,000원 에어팟 2세대 유선 국내정발 미개봉 새제품 판매합니다\n",
      "120,000원 에어팟2 유선 미개봉 삽니다 (12만원) - 직거래 (안양역-산본역)\n",
      "150,000원 애플 에어팟 2세대 유선 충전(MV7N2KH/A) 미개봉 새상품\n",
      "155,000원 에어팟 2세대 유선충전 (미개봉 새상품)\n",
      "149,000원 에어팟(Airpods) 2세대 유선충전(미개봉)\n",
      "130,000원 에어팟2 유선 미개봉 삽니다 인천\n",
      "140,000원 에어팟2세대 유선 미개봉새제품팝니다\n",
      "155,000원 에어팟2세대 유선 정품 미개봉 제품팝니다. (광주)\n",
      "150,000원 에어팟2유선 미개봉새거\n",
      "155,000원 에어팟2세대 유선 정품 미개봉 제품팝니다. (광주)\n",
      "145,000원 에어팟 2세대 유선충전 모델 팝니다. (미개봉 새제품)\n",
      "160,000원 에어팟 2세대 미개봉 유선/무선 삽니다\n",
      "140,000원 에어팟 유선 미개봉 팝니다\n",
      "2,000원 에어팟 2세대 유선충전 미개봉 신품 택포 14만 팝니다.\n",
      "140,000원 에어팟 유선미개봉 팔아요\n",
      "15,000원 대구 에어팟2 유선(애플코리아 정품10월 미개봉)\n",
      "150,000원 [애플 코리아 정품] 에어팟 2세대 유선 미개봉 새제품 판매합니다.\n",
      "160,000원 [대구] 애플 에어팟2(유선) 미개봉 상품 판매\n",
      "150,000원 에어팟2세대 유선충전 미개봉 15만원 팝니다.\n",
      "150,000원 에어팟2 유선충전 미개봉 팝니다 부천직거래\n",
      "145,000원 미개봉 정품 에어팟 2세대 유선충전 판매합니다\n",
      "140,000원 에어팟2 유선 미개봉\n",
      "140,000원 에어팟2 유선 미개봉\n",
      "140,000원 (강남역직거래14만)에어팟 2세대 유선 미개봉 제품 팝니다.  \n",
      "145,000원 에어팟2세대 유선충전 미개봉 판매합니다\n",
      "132,000원 에어팟2  유선미개봉 새상품 팝니다\n",
      "145,000원 에어팟 2세대 유선충전 미개봉 판매합니당\n",
      "140,000원 에어팟 2 유선 미개봉팔아요\n",
      "145,000원 에어팟 2세대 유선충전 미개봉  판매합니다!\n"
     ]
    }
   ],
   "source": [
    "price_info=[]\n",
    "for post_link in post_link_list:\n",
    "    try:\n",
    "        post_info = get_post_info(driver, post_link)\n",
    "        print(post_info['cost'], post_info['title'])\n",
    "        price_info.append(post_info)\n",
    "    except:\n",
    "        print(\"cannot attach post\")\n",
    "\n",
    "price_info_pd=pd.DataFrame(price_info)\n",
    "price_info_pd.to_csv(\"price_info.csv\")"
   ]
  },
  {
   "cell_type": "code",
   "execution_count": null,
   "metadata": {},
   "outputs": [],
   "source": []
  },
  {
   "cell_type": "code",
   "execution_count": null,
   "metadata": {},
   "outputs": [],
   "source": []
  }
 ],
 "metadata": {
  "kernelspec": {
   "display_name": "Python [conda env:crawler] *",
   "language": "python",
   "name": "conda-env-crawler-py"
  },
  "language_info": {
   "codemirror_mode": {
    "name": "ipython",
    "version": 3
   },
   "file_extension": ".py",
   "mimetype": "text/x-python",
   "name": "python",
   "nbconvert_exporter": "python",
   "pygments_lexer": "ipython3",
   "version": "3.7.5"
  }
 },
 "nbformat": 4,
 "nbformat_minor": 2
}
