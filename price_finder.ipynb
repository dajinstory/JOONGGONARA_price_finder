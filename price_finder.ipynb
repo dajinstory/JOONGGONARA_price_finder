{
 "cells": [
  {
   "cell_type": "markdown",
   "metadata": {},
   "source": [
    "## Import Libraries"
   ]
  },
  {
   "cell_type": "code",
   "execution_count": 1,
   "metadata": {},
   "outputs": [],
   "source": [
    "from selenium.webdriver.common.action_chains import ActionChains\n",
    "from selenium.webdriver.common.keys import Keys\n",
    "from selenium.webdriver.support.ui import WebDriverWait\n",
    "from selenium.webdriver.support import expected_conditions as EC\n",
    "from selenium.webdriver.common.by import By\n",
    "from selenium import webdriver\n",
    "from bs4 import BeautifulSoup as bs\n",
    "import pyperclip\n",
    "\n",
    "import pandas as pd\n",
    "import time"
   ]
  },
  {
   "cell_type": "markdown",
   "metadata": {},
   "source": [
    "### Clipboard copy"
   ]
  },
  {
   "cell_type": "code",
   "execution_count": 2,
   "metadata": {},
   "outputs": [],
   "source": [
    "def clipboard_input(driver, user_input):\n",
    "    # save existing clipboard data\n",
    "    existing_clipboard = pyperclip.paste()\n",
    "\n",
    "    # copy user_input to clipboard. then paste it\n",
    "    pyperclip.copy(user_input)\n",
    "    ActionChains(driver).key_down(Keys.CONTROL).send_keys('v').key_up(Keys.CONTROL).perform()\n",
    "\n",
    "    # recover the original clipboard data\n",
    "    pyperclip.copy(existing_clipboard)  \n",
    "    time.sleep(1)"
   ]
  },
  {
   "cell_type": "markdown",
   "metadata": {},
   "source": [
    "### Load user info"
   ]
  },
  {
   "cell_type": "code",
   "execution_count": 3,
   "metadata": {},
   "outputs": [],
   "source": [
    "def load_user_info():\n",
    "    f = open('user_info.txt', 'r')\n",
    "    user_info = f.readlines()\n",
    "    f.close()\n",
    "    \n",
    "    return user_info[0][:-1], user_info[1][:-1]"
   ]
  },
  {
   "cell_type": "markdown",
   "metadata": {},
   "source": [
    "### Naver Login"
   ]
  },
  {
   "cell_type": "code",
   "execution_count": 4,
   "metadata": {},
   "outputs": [],
   "source": [
    "def login_naver(driver, user_id, user_pw):\n",
    "    # naver login page\n",
    "    driver.get('https://nid.naver.com/nidlogin.login?svctype=262144&url=http://m.naver.com/aside/')\n",
    "\n",
    "    # input id \n",
    "    driver.find_element_by_xpath('//*[@id=\"id\"]').click()\n",
    "    clipboard_input(driver, user_id)\n",
    "\n",
    "    # input pw\n",
    "    driver.find_element_by_xpath('//*[@id=\"pw\"]').click()\n",
    "    clipboard_input(driver, user_pw)\n",
    "\n",
    "    # click login btn\n",
    "    driver.find_element_by_xpath('//*[@id=\"frmNIDLogin\"]/fieldset/input').click()\n",
    "    time.sleep(1)\n",
    "\n",
    "    # click \n",
    "    driver.find_element_by_xpath('//span[@class=\"btn_cancel\"]').click()"
   ]
  },
  {
   "cell_type": "markdown",
   "metadata": {},
   "source": [
    "### Enter Details to search in Joonggonara"
   ]
  },
  {
   "cell_type": "code",
   "execution_count": 5,
   "metadata": {},
   "outputs": [],
   "source": [
    "def get_idx_of_selected_option(option_list, input_text):\n",
    "    for idx, option in enumerate(option_list):\n",
    "        if option.text == input_text:\n",
    "            return idx\n",
    "    return -1"
   ]
  },
  {
   "cell_type": "code",
   "execution_count": 6,
   "metadata": {},
   "outputs": [],
   "source": [
    "def enter_details(driver, search_option, item, detail_option):    \n",
    "    # show 50 items\n",
    "    driver.find_element_by_xpath('//div[@id=\"listSizeSelectDiv\"]').click()\n",
    "    time.sleep(1)\n",
    "    listSize_list = driver.find_elements_by_xpath('//div[@id=\"listSizeSelectDiv\"]/ul/li')\n",
    "    listSize_list[-1].click()\n",
    "    time.sleep(1)\n",
    "    \n",
    "    # set search options\n",
    "    driver.find_element_by_xpath('//div[@id=\"searchOptionSelectDiv\"]').click()\n",
    "    searchBoard_list = driver.find_elements_by_xpath('//div[@id=\"searchOptionSelectDiv\"]/ul/li')\n",
    "    searchBoard_list[get_idx_of_selected_option(searchBoard_list, search_option['board'])].click()\n",
    "    time.sleep(1)\n",
    "    \n",
    "    driver.find_element_by_xpath('//div[@id=\"divSearchDateTop\"]').click()\n",
    "    searchDate_list = driver.find_elements_by_xpath('//div[@id=\"divSearchDateTop\"]/ul/li')\n",
    "    searchDate_list[get_idx_of_selected_option(searchDate_list, search_option['period'])].click()\n",
    "    \n",
    "    driver.find_element_by_xpath('//div[@id=\"divSearchMenuTop\"]').click()\n",
    "    searchMenu_list = driver.find_elements_by_xpath('//div[@id=\"divSearchMenuTop\"]/ul/li')\n",
    "    searchMenu_list[get_idx_of_selected_option(searchMenu_list, search_option['menu'])].click()\n",
    "    \n",
    "    driver.find_element_by_xpath('//div[@id=\"divSearchByTop\"]').click()\n",
    "    searchBy_list = driver.find_elements_by_xpath('//div[@id=\"divSearchByTop\"]/ul/li')\n",
    "    searchBy_list[get_idx_of_selected_option(searchBy_list, search_option['by'])].click()\n",
    "    \n",
    "    # enter item\n",
    "    driver.find_element_by_xpath('//input[@placeholder=\"검색어를 입력해주세요\"]').send_keys(item)\n",
    "    \n",
    "    # click detail search btn\n",
    "    driver.find_element_by_xpath('//*[@id=\"detailSearchBtn\"]').click()\n",
    "\n",
    "    # enter detail options\n",
    "    driver.find_element_by_xpath('//input[@placeholder=\"다음 단어 모두 포함\"]').send_keys(detail_option['keywords_and'])\n",
    "    driver.find_element_by_xpath('//input[@placeholder=\"다음 단어 제외\"]').send_keys(detail_option['keywords_not'])\n",
    "    driver.find_element_by_xpath('//input[@placeholder=\"다음 단어 중 1개 이상 포함\"]').send_keys(detail_option['keywords_or'])\n",
    "    driver.find_element_by_xpath('//input[@placeholder=\"다음 어절, 어구 정확히 일치\"]').send_keys(detail_option['sentence'])\n",
    "    \n",
    "    \n",
    "    # search\n",
    "    driver.find_element_by_xpath('//form[@name=\"frmSearchTop\"]/div[@class=\"input_search_area\"]/button[@class=\"btn-search-green\"]').click()\n",
    "    \n",
    "    time.sleep(1)"
   ]
  },
  {
   "cell_type": "markdown",
   "metadata": {},
   "source": [
    "### Get Product Info"
   ]
  },
  {
   "cell_type": "code",
   "execution_count": 7,
   "metadata": {},
   "outputs": [],
   "source": [
    "def get_post_info(driver, href):\n",
    "    driver.get(href)\n",
    "    time.sleep(1)\n",
    "    driver.switch_to.frame('cafe_main')\n",
    "    soup = bs(driver.page_source, 'html.parser')\n",
    "\n",
    "    # post_title\n",
    "    title = soup.select('div.tit-box span.b')[0].get_text()\n",
    "    \n",
    "    # posted_cost\n",
    "    try:\n",
    "        cost = soup.select('span.cost')[0].get_text()\n",
    "    except:\n",
    "        cost = 0\n",
    "\n",
    "    # merge contents to single text\n",
    "    content_tags = soup.select('#tbody')[0].select('p')\n",
    "    content = ' '.join([ tags.get_text() for tags in content_tags ])\n",
    "    \n",
    "    time.sleep(1)\n",
    "\n",
    "    return {'cost':cost, 'title' : title, 'content' : content}"
   ]
  },
  {
   "cell_type": "markdown",
   "metadata": {},
   "source": [
    "#### Run ChromeDriver"
   ]
  },
  {
   "cell_type": "code",
   "execution_count": 8,
   "metadata": {},
   "outputs": [],
   "source": [
    "driver = webdriver.Chrome()\n",
    "driver.implicitly_wait(2)"
   ]
  },
  {
   "cell_type": "markdown",
   "metadata": {},
   "source": [
    "#### Login Naver"
   ]
  },
  {
   "cell_type": "code",
   "execution_count": 9,
   "metadata": {},
   "outputs": [],
   "source": [
    "user_id, user_pw = load_user_info()\n",
    "login_naver(driver, user_id, user_pw)"
   ]
  },
  {
   "cell_type": "markdown",
   "metadata": {},
   "source": [
    "#### Search items from Joonggonara and get boards"
   ]
  },
  {
   "cell_type": "code",
   "execution_count": 10,
   "metadata": {},
   "outputs": [],
   "source": [
    "# log onto Joonggonara and enter details\n",
    "driver.get('https://cafe.naver.com/joonggonara?iframe_url=/ArticleSearchList.nhn%3Fsearch.clubid=10050146%26search.searchBy=0')\n",
    "time.sleep(1)\n",
    "driver.switch_to.frame(driver.find_element_by_name(\"cafe_main\"))\n",
    "\n",
    "search_option={\n",
    "    'board' : \"게시글 전체\",\n",
    "    'period' : \"전체기간\",\n",
    "    'menu' : \"주변기기/악세사리\",\n",
    "    'by' : \"제목만\"\n",
    "}\n",
    "\n",
    "item = \"애플워치\"\n",
    "\n",
    "detail_option = {\n",
    "    'keywords_and' : \"미개봉 나이키 44\",\n",
    "    'keywords_not' : \"에르메스 중고폰 에디션 40 삽니다\", \n",
    "    'keywords_or' : \"스페이스그레이 스그 그레이\", \n",
    "    'sentence' : \"\"\n",
    "}\n",
    "\n",
    "enter_details(driver, search_option, item, detail_option)"
   ]
  },
  {
   "cell_type": "code",
   "execution_count": 11,
   "metadata": {},
   "outputs": [
    {
     "ename": "IndexError",
     "evalue": "list index out of range",
     "output_type": "error",
     "traceback": [
      "\u001b[1;31m---------------------------------------------------------------------------\u001b[0m",
      "\u001b[1;31mIndexError\u001b[0m                                Traceback (most recent call last)",
      "\u001b[1;32m<ipython-input-11-fe1a66ae31c1>\u001b[0m in \u001b[0;36m<module>\u001b[1;34m\u001b[0m\n\u001b[0;32m      1\u001b[0m \u001b[0mboard_navigator\u001b[0m \u001b[1;33m=\u001b[0m \u001b[0mdriver\u001b[0m\u001b[1;33m.\u001b[0m\u001b[0mfind_element_by_xpath\u001b[0m\u001b[1;33m(\u001b[0m\u001b[1;34m'//div[@class=\"prev-next\"]'\u001b[0m\u001b[1;33m)\u001b[0m\u001b[1;33m\u001b[0m\u001b[1;33m\u001b[0m\u001b[0m\n\u001b[0;32m      2\u001b[0m \u001b[0mboard_list\u001b[0m \u001b[1;33m=\u001b[0m \u001b[0mboard_navigator\u001b[0m\u001b[1;33m.\u001b[0m\u001b[0mfind_elements_by_tag_name\u001b[0m\u001b[1;33m(\u001b[0m\u001b[1;34m'a'\u001b[0m\u001b[1;33m)\u001b[0m\u001b[1;33m\u001b[0m\u001b[1;33m\u001b[0m\u001b[0m\n\u001b[1;32m----> 3\u001b[1;33m \u001b[0mboard_href\u001b[0m \u001b[1;33m=\u001b[0m \u001b[0mboard_list\u001b[0m\u001b[1;33m[\u001b[0m\u001b[1;36m0\u001b[0m\u001b[1;33m]\u001b[0m\u001b[1;33m.\u001b[0m\u001b[0mget_attribute\u001b[0m\u001b[1;33m(\u001b[0m\u001b[1;34m'href'\u001b[0m\u001b[1;33m)\u001b[0m\u001b[1;33m[\u001b[0m\u001b[1;33m:\u001b[0m\u001b[1;33m-\u001b[0m\u001b[1;36m1\u001b[0m\u001b[1;33m]\u001b[0m\u001b[1;33m\u001b[0m\u001b[1;33m\u001b[0m\u001b[0m\n\u001b[0m\u001b[0;32m      4\u001b[0m \u001b[0mboard_idx\u001b[0m \u001b[1;33m=\u001b[0m \u001b[1;36m0\u001b[0m\u001b[1;33m\u001b[0m\u001b[1;33m\u001b[0m\u001b[0m\n",
      "\u001b[1;31mIndexError\u001b[0m: list index out of range"
     ]
    }
   ],
   "source": [
    "board_navigator = driver.find_element_by_xpath('//div[@class=\"prev-next\"]')\n",
    "board_list = board_navigator.find_elements_by_tag_name('a')\n",
    "board_href = board_list[0].get_attribute('href')[:-1]\n",
    "board_idx = 0"
   ]
  },
  {
   "cell_type": "markdown",
   "metadata": {},
   "source": [
    "#### Get Posts Links"
   ]
  },
  {
   "cell_type": "code",
   "execution_count": null,
   "metadata": {},
   "outputs": [],
   "source": [
    "post_link_list=[]\n",
    "while True:\n",
    "    # change board\n",
    "    board_idx+=1\n",
    "    driver.get(board_href+str(board_idx))\n",
    "    time.sleep(1)\n",
    "    driver.switch_to.frame(driver.find_element_by_name(\"cafe_main\"))\n",
    "    \n",
    "    # get posts\n",
    "    post_list = driver.find_elements_by_class_name('article')\n",
    "    for post in post_list:\n",
    "        post_link_list.append(post.get_attribute('href'))\n",
    "    \n",
    "    # check\n",
    "    print(\"read {} pages {} posts\".format(board_idx, len(post_link_list)))\n",
    "    \n",
    "    # terminate condition\n",
    "    if len(post_list) == 0 or len(post_link_list)>500:\n",
    "        break"
   ]
  },
  {
   "cell_type": "markdown",
   "metadata": {},
   "source": [
    "#### Get Price Info"
   ]
  },
  {
   "cell_type": "code",
   "execution_count": null,
   "metadata": {},
   "outputs": [],
   "source": [
    "price_info=[]\n",
    "for post_link in post_link_list:\n",
    "    try:\n",
    "        post_info = get_post_info(driver, post_link)\n",
    "        print(post_info['cost'], post_info['title'])\n",
    "        price_info.append(post_info)\n",
    "    except:\n",
    "        print(\"cannot attach post\")\n",
    "\n",
    "price_info_pd=pd.DataFrame(price_info)\n",
    "price_info_pd.to_csv(\"price_info.csv\")"
   ]
  },
  {
   "cell_type": "code",
   "execution_count": null,
   "metadata": {},
   "outputs": [],
   "source": []
  },
  {
   "cell_type": "code",
   "execution_count": null,
   "metadata": {},
   "outputs": [],
   "source": []
  }
 ],
 "metadata": {
  "kernelspec": {
   "display_name": "Python [conda env:crawler] *",
   "language": "python",
   "name": "conda-env-crawler-py"
  },
  "language_info": {
   "codemirror_mode": {
    "name": "ipython",
    "version": 3
   },
   "file_extension": ".py",
   "mimetype": "text/x-python",
   "name": "python",
   "nbconvert_exporter": "python",
   "pygments_lexer": "ipython3",
   "version": "3.7.5"
  }
 },
 "nbformat": 4,
 "nbformat_minor": 2
}
