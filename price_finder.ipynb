{
 "cells": [
  {
   "cell_type": "markdown",
   "metadata": {},
   "source": [
    "## Import Libraries"
   ]
  },
  {
   "cell_type": "code",
   "execution_count": 1,
   "metadata": {
    "scrolled": false
   },
   "outputs": [],
   "source": [
    "from selenium.webdriver.common.action_chains import ActionChains\n",
    "from selenium.webdriver.common.keys import Keys\n",
    "from selenium.webdriver.support.ui import WebDriverWait\n",
    "from selenium.webdriver.support import expected_conditions as EC\n",
    "from selenium.webdriver.common.by import By\n",
    "from selenium import webdriver\n",
    "from bs4 import BeautifulSoup as bs\n",
    "import pyperclip\n",
    "\n",
    "import pandas as pd\n",
    "import time"
   ]
  },
  {
   "cell_type": "markdown",
   "metadata": {},
   "source": [
    "### Clipboard copy"
   ]
  },
  {
   "cell_type": "code",
   "execution_count": 2,
   "metadata": {},
   "outputs": [],
   "source": [
    "def clipboard_input(driver, user_input):\n",
    "    # save existing clipboard data\n",
    "    existing_clipboard = pyperclip.paste()\n",
    "\n",
    "    # copy user_input to clipboard. then paste it\n",
    "    pyperclip.copy(user_input)\n",
    "    ActionChains(driver).key_down(Keys.COMMAND).send_keys('v').key_up(Keys.COMMAND).perform()\n",
    "\n",
    "    # recover the original clipboard data\n",
    "    pyperclip.copy(existing_clipboard)  \n",
    "    time.sleep(1)"
   ]
  },
  {
   "cell_type": "markdown",
   "metadata": {},
   "source": [
    "### Load user info"
   ]
  },
  {
   "cell_type": "code",
   "execution_count": 3,
   "metadata": {},
   "outputs": [],
   "source": [
    "def load_user_info():\n",
    "    f = open('user_info.txt', 'r')\n",
    "    user_info = f.readlines()\n",
    "    f.close()\n",
    "    \n",
    "    return user_info[0][:-1], user_info[1][:-1]"
   ]
  },
  {
   "cell_type": "markdown",
   "metadata": {},
   "source": [
    "### Naver Login"
   ]
  },
  {
   "cell_type": "code",
   "execution_count": 4,
   "metadata": {},
   "outputs": [],
   "source": [
    "def login_naver(driver, user_id, user_pw):\n",
    "    # naver login page\n",
    "    driver.get('https://nid.naver.com/nidlogin.login?svctype=262144&url=http://m.naver.com/aside/')\n",
    "\n",
    "    # input id \n",
    "    driver.find_element_by_xpath('//*[@id=\"id\"]').click()\n",
    "    clipboard_input(driver, user_id)\n",
    "\n",
    "    # input pw\n",
    "    driver.find_element_by_xpath('//*[@id=\"pw\"]').click()\n",
    "    clipboard_input(driver, user_pw)\n",
    "\n",
    "    # click login btn\n",
    "    driver.find_element_by_xpath('//*[@id=\"frmNIDLogin\"]/fieldset/input').click()\n",
    "    time.sleep(1)\n",
    "\n",
    "    # click \n",
    "    driver.find_element_by_xpath('//span[@class=\"btn_cancel\"]').click()"
   ]
  },
  {
   "cell_type": "markdown",
   "metadata": {},
   "source": [
    "### Enter Details to search in Joonggonara"
   ]
  },
  {
   "cell_type": "code",
   "execution_count": 5,
   "metadata": {},
   "outputs": [],
   "source": [
    "def get_idx_of_selected_option(option_list, input_text):\n",
    "    for idx, option in enumerate(option_list):\n",
    "        if option.text == input_text:\n",
    "            return idx\n",
    "    return -1"
   ]
  },
  {
   "cell_type": "code",
   "execution_count": 6,
   "metadata": {},
   "outputs": [],
   "source": [
    "def enter_details(driver, search_option, item, detail_option):    \n",
    "    # show 50 items\n",
    "    driver.find_element_by_xpath('//div[@id=\"listSizeSelectDiv\"]').click()\n",
    "    time.sleep(1)\n",
    "    listSize_list = driver.find_elements_by_xpath('//div[@id=\"listSizeSelectDiv\"]/ul/li')\n",
    "    listSize_list[-1].click()\n",
    "    time.sleep(1)\n",
    "    \n",
    "    # set search options\n",
    "    driver.find_element_by_xpath('//div[@id=\"searchOptionSelectDiv\"]').click()\n",
    "    searchBoard_list = driver.find_elements_by_xpath('//div[@id=\"searchOptionSelectDiv\"]/ul/li')\n",
    "    searchBoard_list[get_idx_of_selected_option(searchBoard_list, search_option['board'])].click()\n",
    "    time.sleep(1)\n",
    "    \n",
    "    driver.find_element_by_xpath('//div[@id=\"divSearchDateTop\"]').click()\n",
    "    searchDate_list = driver.find_elements_by_xpath('//div[@id=\"divSearchDateTop\"]/ul/li')\n",
    "    searchDate_list[get_idx_of_selected_option(searchDate_list, search_option['period'])].click()\n",
    "    \n",
    "    driver.find_element_by_xpath('//div[@id=\"divSearchMenuTop\"]').click()\n",
    "    searchMenu_list = driver.find_elements_by_xpath('//div[@id=\"divSearchMenuTop\"]/ul/li')\n",
    "    searchMenu_list[get_idx_of_selected_option(searchMenu_list, search_option['menu'])].click()\n",
    "    \n",
    "    driver.find_element_by_xpath('//div[@id=\"divSearchByTop\"]').click()\n",
    "    searchBy_list = driver.find_elements_by_xpath('//div[@id=\"divSearchByTop\"]/ul/li')\n",
    "    searchBy_list[get_idx_of_selected_option(searchBy_list, search_option['by'])].click()\n",
    "    \n",
    "    # enter item\n",
    "    driver.find_element_by_xpath('//input[@placeholder=\"검색어를 입력해주세요\"]').send_keys(item)\n",
    "    \n",
    "    # click detail search btn\n",
    "    driver.find_element_by_xpath('//*[@id=\"detailSearchBtn\"]').click()\n",
    "\n",
    "    # enter detail options\n",
    "    driver.find_element_by_xpath('//input[@placeholder=\"다음 단어 모두 포함\"]').send_keys(detail_option['keywords_and'])\n",
    "    driver.find_element_by_xpath('//input[@placeholder=\"다음 단어 제외\"]').send_keys(detail_option['keywords_not'])\n",
    "    driver.find_element_by_xpath('//input[@placeholder=\"다음 단어 중 1개 이상 포함\"]').send_keys(detail_option['keywords_or'])\n",
    "    driver.find_element_by_xpath('//input[@placeholder=\"다음 어절, 어구 정확히 일치\"]').send_keys(detail_option['sentence'])\n",
    "    \n",
    "    \n",
    "    # search\n",
    "    driver.find_element_by_xpath('//form[@name=\"frmSearchTop\"]/div[@class=\"input_search_area\"]/button[@class=\"btn-search-green\"]').click()\n",
    "    \n",
    "    time.sleep(1)"
   ]
  },
  {
   "cell_type": "markdown",
   "metadata": {},
   "source": [
    "### Get Product Info"
   ]
  },
  {
   "cell_type": "code",
   "execution_count": 7,
   "metadata": {},
   "outputs": [],
   "source": [
    "def get_post_info(driver, href):\n",
    "    driver.get(href)\n",
    "    time.sleep(1)\n",
    "    driver.switch_to.frame('cafe_main')\n",
    "    time.sleep(1)\n",
    "\n",
    "    soup = bs(driver.page_source, 'html.parser')\n",
    "\n",
    "    # post_title\n",
    "    title = soup.select('.title_text')[0].get_text()\n",
    "    \n",
    "    # posted_cost\n",
    "    try:\n",
    "        cost = soup.select('.cost')[0].get_text()\n",
    "    except:\n",
    "        cost = 0\n",
    "\n",
    "    time.sleep(1)\n",
    "\n",
    "    return {'cost':cost, 'title' : title}"
   ]
  },
  {
   "cell_type": "markdown",
   "metadata": {},
   "source": [
    "#### Run ChromeDriver"
   ]
  },
  {
   "cell_type": "code",
   "execution_count": 22,
   "metadata": {},
   "outputs": [],
   "source": [
    "driver_path = \"/Users/dajinhan/Desktop/JOONGGONARA_price_finder/chromedriver\"\n",
    "driver = webdriver.Chrome(driver_path)\n",
    "driver.implicitly_wait(2)"
   ]
  },
  {
   "cell_type": "markdown",
   "metadata": {},
   "source": [
    "#### Login Naver"
   ]
  },
  {
   "cell_type": "code",
   "execution_count": 23,
   "metadata": {},
   "outputs": [
    {
     "ename": "NoSuchElementException",
     "evalue": "Message: no such element: Unable to locate element: {\"method\":\"xpath\",\"selector\":\"//span[@class=\"btn_cancel\"]\"}\n  (Session info: chrome=86.0.4240.75)\n",
     "output_type": "error",
     "traceback": [
      "\u001b[0;31m---------------------------------------------------------------------------\u001b[0m",
      "\u001b[0;31mNoSuchElementException\u001b[0m                    Traceback (most recent call last)",
      "\u001b[0;32m<ipython-input-23-3642540f5aa8>\u001b[0m in \u001b[0;36m<module>\u001b[0;34m\u001b[0m\n\u001b[1;32m      1\u001b[0m \u001b[0muser_id\u001b[0m\u001b[0;34m,\u001b[0m \u001b[0muser_pw\u001b[0m \u001b[0;34m=\u001b[0m \u001b[0mload_user_info\u001b[0m\u001b[0;34m(\u001b[0m\u001b[0;34m)\u001b[0m\u001b[0;34m\u001b[0m\u001b[0;34m\u001b[0m\u001b[0m\n\u001b[0;32m----> 2\u001b[0;31m \u001b[0mlogin_naver\u001b[0m\u001b[0;34m(\u001b[0m\u001b[0mdriver\u001b[0m\u001b[0;34m,\u001b[0m \u001b[0muser_id\u001b[0m\u001b[0;34m,\u001b[0m \u001b[0muser_pw\u001b[0m\u001b[0;34m)\u001b[0m\u001b[0;34m\u001b[0m\u001b[0;34m\u001b[0m\u001b[0m\n\u001b[0m",
      "\u001b[0;32m<ipython-input-4-a023294a1730>\u001b[0m in \u001b[0;36mlogin_naver\u001b[0;34m(driver, user_id, user_pw)\u001b[0m\n\u001b[1;32m     16\u001b[0m \u001b[0;34m\u001b[0m\u001b[0m\n\u001b[1;32m     17\u001b[0m     \u001b[0;31m# click\u001b[0m\u001b[0;34m\u001b[0m\u001b[0;34m\u001b[0m\u001b[0;34m\u001b[0m\u001b[0m\n\u001b[0;32m---> 18\u001b[0;31m     \u001b[0mdriver\u001b[0m\u001b[0;34m.\u001b[0m\u001b[0mfind_element_by_xpath\u001b[0m\u001b[0;34m(\u001b[0m\u001b[0;34m'//span[@class=\"btn_cancel\"]'\u001b[0m\u001b[0;34m)\u001b[0m\u001b[0;34m.\u001b[0m\u001b[0mclick\u001b[0m\u001b[0;34m(\u001b[0m\u001b[0;34m)\u001b[0m\u001b[0;34m\u001b[0m\u001b[0;34m\u001b[0m\u001b[0m\n\u001b[0m",
      "\u001b[0;32m~/opt/anaconda3/envs/web/lib/python3.8/site-packages/selenium/webdriver/remote/webdriver.py\u001b[0m in \u001b[0;36mfind_element_by_xpath\u001b[0;34m(self, xpath)\u001b[0m\n\u001b[1;32m    392\u001b[0m             \u001b[0melement\u001b[0m \u001b[0;34m=\u001b[0m \u001b[0mdriver\u001b[0m\u001b[0;34m.\u001b[0m\u001b[0mfind_element_by_xpath\u001b[0m\u001b[0;34m(\u001b[0m\u001b[0;34m'//div/td[1]'\u001b[0m\u001b[0;34m)\u001b[0m\u001b[0;34m\u001b[0m\u001b[0;34m\u001b[0m\u001b[0m\n\u001b[1;32m    393\u001b[0m         \"\"\"\n\u001b[0;32m--> 394\u001b[0;31m         \u001b[0;32mreturn\u001b[0m \u001b[0mself\u001b[0m\u001b[0;34m.\u001b[0m\u001b[0mfind_element\u001b[0m\u001b[0;34m(\u001b[0m\u001b[0mby\u001b[0m\u001b[0;34m=\u001b[0m\u001b[0mBy\u001b[0m\u001b[0;34m.\u001b[0m\u001b[0mXPATH\u001b[0m\u001b[0;34m,\u001b[0m \u001b[0mvalue\u001b[0m\u001b[0;34m=\u001b[0m\u001b[0mxpath\u001b[0m\u001b[0;34m)\u001b[0m\u001b[0;34m\u001b[0m\u001b[0;34m\u001b[0m\u001b[0m\n\u001b[0m\u001b[1;32m    395\u001b[0m \u001b[0;34m\u001b[0m\u001b[0m\n\u001b[1;32m    396\u001b[0m     \u001b[0;32mdef\u001b[0m \u001b[0mfind_elements_by_xpath\u001b[0m\u001b[0;34m(\u001b[0m\u001b[0mself\u001b[0m\u001b[0;34m,\u001b[0m \u001b[0mxpath\u001b[0m\u001b[0;34m)\u001b[0m\u001b[0;34m:\u001b[0m\u001b[0;34m\u001b[0m\u001b[0;34m\u001b[0m\u001b[0m\n",
      "\u001b[0;32m~/opt/anaconda3/envs/web/lib/python3.8/site-packages/selenium/webdriver/remote/webdriver.py\u001b[0m in \u001b[0;36mfind_element\u001b[0;34m(self, by, value)\u001b[0m\n\u001b[1;32m    974\u001b[0m                 \u001b[0mby\u001b[0m \u001b[0;34m=\u001b[0m \u001b[0mBy\u001b[0m\u001b[0;34m.\u001b[0m\u001b[0mCSS_SELECTOR\u001b[0m\u001b[0;34m\u001b[0m\u001b[0;34m\u001b[0m\u001b[0m\n\u001b[1;32m    975\u001b[0m                 \u001b[0mvalue\u001b[0m \u001b[0;34m=\u001b[0m \u001b[0;34m'[name=\"%s\"]'\u001b[0m \u001b[0;34m%\u001b[0m \u001b[0mvalue\u001b[0m\u001b[0;34m\u001b[0m\u001b[0;34m\u001b[0m\u001b[0m\n\u001b[0;32m--> 976\u001b[0;31m         return self.execute(Command.FIND_ELEMENT, {\n\u001b[0m\u001b[1;32m    977\u001b[0m             \u001b[0;34m'using'\u001b[0m\u001b[0;34m:\u001b[0m \u001b[0mby\u001b[0m\u001b[0;34m,\u001b[0m\u001b[0;34m\u001b[0m\u001b[0;34m\u001b[0m\u001b[0m\n\u001b[1;32m    978\u001b[0m             'value': value})['value']\n",
      "\u001b[0;32m~/opt/anaconda3/envs/web/lib/python3.8/site-packages/selenium/webdriver/remote/webdriver.py\u001b[0m in \u001b[0;36mexecute\u001b[0;34m(self, driver_command, params)\u001b[0m\n\u001b[1;32m    319\u001b[0m         \u001b[0mresponse\u001b[0m \u001b[0;34m=\u001b[0m \u001b[0mself\u001b[0m\u001b[0;34m.\u001b[0m\u001b[0mcommand_executor\u001b[0m\u001b[0;34m.\u001b[0m\u001b[0mexecute\u001b[0m\u001b[0;34m(\u001b[0m\u001b[0mdriver_command\u001b[0m\u001b[0;34m,\u001b[0m \u001b[0mparams\u001b[0m\u001b[0;34m)\u001b[0m\u001b[0;34m\u001b[0m\u001b[0;34m\u001b[0m\u001b[0m\n\u001b[1;32m    320\u001b[0m         \u001b[0;32mif\u001b[0m \u001b[0mresponse\u001b[0m\u001b[0;34m:\u001b[0m\u001b[0;34m\u001b[0m\u001b[0;34m\u001b[0m\u001b[0m\n\u001b[0;32m--> 321\u001b[0;31m             \u001b[0mself\u001b[0m\u001b[0;34m.\u001b[0m\u001b[0merror_handler\u001b[0m\u001b[0;34m.\u001b[0m\u001b[0mcheck_response\u001b[0m\u001b[0;34m(\u001b[0m\u001b[0mresponse\u001b[0m\u001b[0;34m)\u001b[0m\u001b[0;34m\u001b[0m\u001b[0;34m\u001b[0m\u001b[0m\n\u001b[0m\u001b[1;32m    322\u001b[0m             response['value'] = self._unwrap_value(\n\u001b[1;32m    323\u001b[0m                 response.get('value', None))\n",
      "\u001b[0;32m~/opt/anaconda3/envs/web/lib/python3.8/site-packages/selenium/webdriver/remote/errorhandler.py\u001b[0m in \u001b[0;36mcheck_response\u001b[0;34m(self, response)\u001b[0m\n\u001b[1;32m    240\u001b[0m                 \u001b[0malert_text\u001b[0m \u001b[0;34m=\u001b[0m \u001b[0mvalue\u001b[0m\u001b[0;34m[\u001b[0m\u001b[0;34m'alert'\u001b[0m\u001b[0;34m]\u001b[0m\u001b[0;34m.\u001b[0m\u001b[0mget\u001b[0m\u001b[0;34m(\u001b[0m\u001b[0;34m'text'\u001b[0m\u001b[0;34m)\u001b[0m\u001b[0;34m\u001b[0m\u001b[0;34m\u001b[0m\u001b[0m\n\u001b[1;32m    241\u001b[0m             \u001b[0;32mraise\u001b[0m \u001b[0mexception_class\u001b[0m\u001b[0;34m(\u001b[0m\u001b[0mmessage\u001b[0m\u001b[0;34m,\u001b[0m \u001b[0mscreen\u001b[0m\u001b[0;34m,\u001b[0m \u001b[0mstacktrace\u001b[0m\u001b[0;34m,\u001b[0m \u001b[0malert_text\u001b[0m\u001b[0;34m)\u001b[0m\u001b[0;34m\u001b[0m\u001b[0;34m\u001b[0m\u001b[0m\n\u001b[0;32m--> 242\u001b[0;31m         \u001b[0;32mraise\u001b[0m \u001b[0mexception_class\u001b[0m\u001b[0;34m(\u001b[0m\u001b[0mmessage\u001b[0m\u001b[0;34m,\u001b[0m \u001b[0mscreen\u001b[0m\u001b[0;34m,\u001b[0m \u001b[0mstacktrace\u001b[0m\u001b[0;34m)\u001b[0m\u001b[0;34m\u001b[0m\u001b[0;34m\u001b[0m\u001b[0m\n\u001b[0m\u001b[1;32m    243\u001b[0m \u001b[0;34m\u001b[0m\u001b[0m\n\u001b[1;32m    244\u001b[0m     \u001b[0;32mdef\u001b[0m \u001b[0m_value_or_default\u001b[0m\u001b[0;34m(\u001b[0m\u001b[0mself\u001b[0m\u001b[0;34m,\u001b[0m \u001b[0mobj\u001b[0m\u001b[0;34m,\u001b[0m \u001b[0mkey\u001b[0m\u001b[0;34m,\u001b[0m \u001b[0mdefault\u001b[0m\u001b[0;34m)\u001b[0m\u001b[0;34m:\u001b[0m\u001b[0;34m\u001b[0m\u001b[0;34m\u001b[0m\u001b[0m\n",
      "\u001b[0;31mNoSuchElementException\u001b[0m: Message: no such element: Unable to locate element: {\"method\":\"xpath\",\"selector\":\"//span[@class=\"btn_cancel\"]\"}\n  (Session info: chrome=86.0.4240.75)\n"
     ]
    }
   ],
   "source": [
    "user_id, user_pw = load_user_info()\n",
    "login_naver(driver, user_id, user_pw)\n"
   ]
  },
  {
   "cell_type": "markdown",
   "metadata": {},
   "source": [
    "#### Search items from Joonggonara and get boards"
   ]
  },
  {
   "cell_type": "code",
   "execution_count": 25,
   "metadata": {},
   "outputs": [],
   "source": [
    "# log onto Joonggonara and enter details\n",
    "driver.get('https://cafe.naver.com/joonggonara?iframe_url=/ArticleSearchList.nhn%3Fsearch.clubid=10050146%26search.searchBy=0')\n",
    "time.sleep(1)\n",
    "driver.switch_to.frame(driver.find_element_by_name(\"cafe_main\"))\n",
    "\n",
    "search_option={\n",
    "    'board' : \"게시글 전체\",\n",
    "    'period' : \"전체기간\",\n",
    "    'menu' : \"태블릿 판매/매입\", #\"주변기기/악세사리\",\n",
    "    'by' : \"제목만\"\n",
    "}\n",
    "\n",
    "item = \"아이패드 미니\"\n",
    "\n",
    "detail_option = {\n",
    "    'keywords_and' : \"LTE 5 미개봉\",\n",
    "    'keywords_not' : \"중고폰 삽니다 사요 구매 구함 구해요 구합니다\",\n",
    "    'keywords_or' : \"\", \n",
    "    'sentence' : \"\"\n",
    "}\n",
    "# 'keywords_not' : \"LTE 중고폰 삽니다 사요 구매 구함 구해요 구합니다\"\n",
    "num_of_items=500\n",
    "\n",
    "enter_details(driver, search_option, item, detail_option)"
   ]
  },
  {
   "cell_type": "code",
   "execution_count": 27,
   "metadata": {},
   "outputs": [],
   "source": [
    "board_navigator = driver.find_element_by_xpath('//div[@class=\"prev-next\"]')\n",
    "board_list = board_navigator.find_elements_by_tag_name('a')\n",
    "board_href = board_list[0].get_attribute('href')[:-1]\n",
    "board_idx = 0"
   ]
  },
  {
   "cell_type": "markdown",
   "metadata": {},
   "source": [
    "#### Get Posts Links"
   ]
  },
  {
   "cell_type": "code",
   "execution_count": 28,
   "metadata": {},
   "outputs": [
    {
     "name": "stdout",
     "output_type": "stream",
     "text": [
      "read 1 pages 7 posts. and 7 new posts\n",
      "read 2 pages 7 posts. and 0 new posts\n"
     ]
    }
   ],
   "source": [
    "post_key_list=[]\n",
    "author_list=set([])\n",
    "while True:\n",
    "    # change board\n",
    "    board_idx+=1\n",
    "    driver.get(board_href+str(board_idx))\n",
    "    time.sleep(1)\n",
    "    driver.switch_to.frame(driver.find_element_by_name(\"cafe_main\"))\n",
    "    \n",
    "    # get posts in current board\n",
    "    posts = driver.find_elements_by_css_selector('div.article-board > table > tbody > tr')\n",
    "    num_of_new_posts = len(posts)\n",
    "    \n",
    "    for post in posts:\n",
    "        \n",
    "        # get valid posts\n",
    "        try:\n",
    "            author = post.find_element_by_class_name('td_name').text.strip()\n",
    "            href = post.find_element_by_class_name('article').get_attribute('href')\n",
    "        except:\n",
    "            num_of_new_posts-=1\n",
    "            continue\n",
    "            \n",
    "        # filter duplicated postings by author\n",
    "        if author in author_list:\n",
    "            num_of_new_posts-=1\n",
    "            continue\n",
    "        post_key_list.append({\"author\": author, \"href\":href})\n",
    "        author_list.add(author)\n",
    "        \n",
    "    # check\n",
    "    print(\"read {} pages {} posts. and {} new posts\".format(board_idx, len(post_key_list), num_of_new_posts))\n",
    "    \n",
    "    # terminate condition\n",
    "    if num_of_new_posts == 0 or len(post_key_list)>num_of_items:\n",
    "        break"
   ]
  },
  {
   "cell_type": "markdown",
   "metadata": {},
   "source": [
    "#### Get Price Info"
   ]
  },
  {
   "cell_type": "code",
   "execution_count": 29,
   "metadata": {},
   "outputs": [
    {
     "name": "stdout",
     "output_type": "stream",
     "text": [
      "570,000원 kimsk59612 \n",
      "            아이패드 미니5 64GB LTE 미개봉 국내정품 판매합니다.\n",
      "        \n",
      "620,000원 즐거운인생시작 \n",
      "            아이패드미니5 64GB LTE 셀룰러 + 애플펜슬1세대 미개봉 팝니다. \n",
      "        \n",
      "590,000원 에반스7 \n",
      "            [미개봉] 아이패드 미니5 64기가 실버 셀룰러/lte 미개봉 팝니다.\n",
      "        \n",
      "620,000원 중얼대는초이 \n",
      "            아이패드미니 5 LTE 셀롤러 (미개봉 64g) 팝니다.(사진첨부)\n",
      "        \n",
      "560,000원 clubm3647 \n",
      "            [ 미개봉 신품 ] 아이패드 미니5 64GB LTE \n",
      "        \n",
      "530,000원 모카슈슈 \n",
      "            아이패드 미니5 64G 셀룰러(LTE) 실버색상 팝니다 (미개봉)\n",
      "        \n",
      "790,000원 초사만루 \n",
      "            미개봉 아이패드 미니 5세대 256GB LTE (골드)\n",
      "        \n"
     ]
    }
   ],
   "source": [
    "price_info=[]\n",
    "for post_key in post_key_list:\n",
    "    try:\n",
    "        post_info = get_post_info(driver, post_key[\"href\"])\n",
    "        print(post_info['cost'], post_key[\"author\"], post_info['title'])\n",
    "        price_info.append(post_info)\n",
    "    except:\n",
    "        print(\"cannot attach post\")\n",
    "\n",
    "price_info_pd=pd.DataFrame(price_info)\n",
    "price_info_pd.to_csv(\"output/\"+item+\"_price_info.csv\")"
   ]
  },
  {
   "cell_type": "code",
   "execution_count": null,
   "metadata": {},
   "outputs": [],
   "source": []
  }
 ],
 "metadata": {
  "kernelspec": {
   "display_name": "Python 3",
   "language": "python",
   "name": "python3"
  },
  "language_info": {
   "codemirror_mode": {
    "name": "ipython",
    "version": 3
   },
   "file_extension": ".py",
   "mimetype": "text/x-python",
   "name": "python",
   "nbconvert_exporter": "python",
   "pygments_lexer": "ipython3",
   "version": "3.8.5"
  }
 },
 "nbformat": 4,
 "nbformat_minor": 2
}
